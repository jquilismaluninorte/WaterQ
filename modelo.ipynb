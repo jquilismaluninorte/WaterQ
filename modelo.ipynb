{
  "nbformat": 4,
  "nbformat_minor": 0,
  "metadata": {
    "colab": {
      "name": "modelo.ipynb",
      "provenance": []
    },
    "kernelspec": {
      "name": "python3",
      "display_name": "Python 3.9.0 64-bit",
      "metadata": {
        "interpreter": {
          "hash": "ef240356bca6ccc51679dfbbeeb00ef1781bf7766494882b1bf290615b3111b1"
        }
      }
    }
  },
  "cells": [
    {
      "cell_type": "code",
      "metadata": {
        "colab": {
          "base_uri": "https://localhost:8080/"
        },
        "id": "r0t882HO5GzR",
        "outputId": "0c9d154e-ca4b-43a4-f22d-c1bc20cf3016"
      },
      "source": [
        "import pandas as pd\n",
        "import matplotlib.pyplot as plt\n",
        "import seaborn as sns\n",
        "import numpy as np\n",
        "import datetime as dt\n",
        "import statsmodels.formula.api as sm\n",
        "import statsmodels.api as sm1\n",
        "\n",
        "#from google.colab import drive\n",
        "#drive.mount('/content/drive')"
      ],
      "execution_count": 5,
      "outputs": []
    },
    {
      "cell_type": "code",
      "metadata": {
        "id": "OW_XN1AU5wBw",
        "colab": {
          "base_uri": "https://localhost:8080/",
          "height": 438
        },
        "outputId": "09108ca0-c96c-4117-d992-a27a728872e8"
      },
      "source": [
        "#df3 = pd.read_csv('/content/drive/MyDrive/DS4A - Proyecto/data/PIB_municipio.csv', sep=';', encoding='latin-1')\n",
        "#df4 = pd.read_csv('/content/drive/MyDrive/DS4A - Proyecto/data/Agropecuario.csv')\n",
        "dataMineria = pd.read_csv('res\\data\\mineriaMunicipio.csv')\n",
        "dataIrca = pd.read_csv('res\\data\\Irca_Departamnetos.csv', sep=';', encoding='latin-1')\n",
        "#print(df4.columns)\n",
        "#df4['PERIODO'].unique()"
      ],
      "execution_count": 6,
      "outputs": []
    },
    {
      "cell_type": "code",
      "metadata": {
        "id": "fwtYjpcQ2Aj2"
      },
      "source": [
        "dataIrca2 = dataIrca.rename(columns={'IRCA Promedio 2019':'IRCA'})\r\n",
        "\r\n",
        "dataMineria2 = dataMineria.groupby(['Municipio Productor', 'Departamento', 'Recurso Natural','Año Produccion', 'Unidad Medida'])['Cantidad Producción'].sum().reset_index()"
      ],
      "execution_count": 7,
      "outputs": []
    },
    {
      "cell_type": "code",
      "metadata": {
        "id": "pKLGbRSX5KjJ"
      },
      "source": [
        "dataIrca2['Municipio'] = dataIrca2['Municipio'].str.normalize('NFKD').str.encode('ascii', errors='ignore').str.decode('utf-8')\r\n",
        "dataMineria2['Municipio Productor'] = dataMineria2['Municipio Productor'].str.normalize('NFKD').str.encode('ascii', errors='ignore').str.decode('utf-8')\r\n",
        "\r\n",
        "dataIrca2['Departamento'] = dataIrca2['Departamento'].str.normalize('NFKD').str.encode('ascii', errors='ignore').str.decode('utf-8')\r\n",
        "dataMineria2['Departamento'] = dataMineria2['Departamento'].str.normalize('NFKD').str.encode('ascii', errors='ignore').str.decode('utf-8')"
      ],
      "execution_count": 8,
      "outputs": []
    },
    {
      "cell_type": "code",
      "metadata": {
        "colab": {
          "base_uri": "https://localhost:8080/",
          "height": 424
        },
        "id": "62YnbXW3Ryrc",
        "outputId": "920d9c5e-e61e-40de-a2a6-e2fc6f8e0c69"
      },
      "source": [
        "dataIrca2"
      ],
      "execution_count": 9,
      "outputs": [
        {
          "output_type": "execute_result",
          "data": {
            "text/plain": [
              "        Año     Departamento  Divi_dpto      Municipio  Divi_muni   IRCA  \\\n",
              "0      2010        Antioquia          5       Medellin       5001   1.44   \n",
              "1      2010        Antioquia          5      Abejorral       5002  25.44   \n",
              "2      2010        Antioquia          5       Abriaqui       5004  16.52   \n",
              "3      2010        Antioquia          5     Alejandria       5021   2.94   \n",
              "4      2010        Antioquia          5          Amaga       5030  35.72   \n",
              "...     ...              ...        ...            ...        ...    ...   \n",
              "10497  2016  Valle del Cauca         76         Zarzal      76895   2.60   \n",
              "10498  2016           Boyaca         15      Zetaquira      15897  49.40   \n",
              "10499  2016     Cundinamarca         25        Zipacon      25898  47.80   \n",
              "10500  2016     Cundinamarca         25      Zipaquira      25899   1.10   \n",
              "10501  2016        Magdalena         47  Zona Bananera      47980  83.70   \n",
              "\n",
              "        Categoría  \n",
              "0      Sin riesgo  \n",
              "1           Medio  \n",
              "2      Sin riesgo  \n",
              "3      Sin riesgo  \n",
              "4           Medio  \n",
              "...           ...  \n",
              "10497        Bajo  \n",
              "10498       Medio  \n",
              "10499       Medio  \n",
              "10500        Bajo  \n",
              "10501        Alto  \n",
              "\n",
              "[10502 rows x 7 columns]"
            ],
            "text/html": "<div>\n<style scoped>\n    .dataframe tbody tr th:only-of-type {\n        vertical-align: middle;\n    }\n\n    .dataframe tbody tr th {\n        vertical-align: top;\n    }\n\n    .dataframe thead th {\n        text-align: right;\n    }\n</style>\n<table border=\"1\" class=\"dataframe\">\n  <thead>\n    <tr style=\"text-align: right;\">\n      <th></th>\n      <th>Año</th>\n      <th>Departamento</th>\n      <th>Divi_dpto</th>\n      <th>Municipio</th>\n      <th>Divi_muni</th>\n      <th>IRCA</th>\n      <th>Categoría</th>\n    </tr>\n  </thead>\n  <tbody>\n    <tr>\n      <th>0</th>\n      <td>2010</td>\n      <td>Antioquia</td>\n      <td>5</td>\n      <td>Medellin</td>\n      <td>5001</td>\n      <td>1.44</td>\n      <td>Sin riesgo</td>\n    </tr>\n    <tr>\n      <th>1</th>\n      <td>2010</td>\n      <td>Antioquia</td>\n      <td>5</td>\n      <td>Abejorral</td>\n      <td>5002</td>\n      <td>25.44</td>\n      <td>Medio</td>\n    </tr>\n    <tr>\n      <th>2</th>\n      <td>2010</td>\n      <td>Antioquia</td>\n      <td>5</td>\n      <td>Abriaqui</td>\n      <td>5004</td>\n      <td>16.52</td>\n      <td>Sin riesgo</td>\n    </tr>\n    <tr>\n      <th>3</th>\n      <td>2010</td>\n      <td>Antioquia</td>\n      <td>5</td>\n      <td>Alejandria</td>\n      <td>5021</td>\n      <td>2.94</td>\n      <td>Sin riesgo</td>\n    </tr>\n    <tr>\n      <th>4</th>\n      <td>2010</td>\n      <td>Antioquia</td>\n      <td>5</td>\n      <td>Amaga</td>\n      <td>5030</td>\n      <td>35.72</td>\n      <td>Medio</td>\n    </tr>\n    <tr>\n      <th>...</th>\n      <td>...</td>\n      <td>...</td>\n      <td>...</td>\n      <td>...</td>\n      <td>...</td>\n      <td>...</td>\n      <td>...</td>\n    </tr>\n    <tr>\n      <th>10497</th>\n      <td>2016</td>\n      <td>Valle del Cauca</td>\n      <td>76</td>\n      <td>Zarzal</td>\n      <td>76895</td>\n      <td>2.60</td>\n      <td>Bajo</td>\n    </tr>\n    <tr>\n      <th>10498</th>\n      <td>2016</td>\n      <td>Boyaca</td>\n      <td>15</td>\n      <td>Zetaquira</td>\n      <td>15897</td>\n      <td>49.40</td>\n      <td>Medio</td>\n    </tr>\n    <tr>\n      <th>10499</th>\n      <td>2016</td>\n      <td>Cundinamarca</td>\n      <td>25</td>\n      <td>Zipacon</td>\n      <td>25898</td>\n      <td>47.80</td>\n      <td>Medio</td>\n    </tr>\n    <tr>\n      <th>10500</th>\n      <td>2016</td>\n      <td>Cundinamarca</td>\n      <td>25</td>\n      <td>Zipaquira</td>\n      <td>25899</td>\n      <td>1.10</td>\n      <td>Bajo</td>\n    </tr>\n    <tr>\n      <th>10501</th>\n      <td>2016</td>\n      <td>Magdalena</td>\n      <td>47</td>\n      <td>Zona Bananera</td>\n      <td>47980</td>\n      <td>83.70</td>\n      <td>Alto</td>\n    </tr>\n  </tbody>\n</table>\n<p>10502 rows × 7 columns</p>\n</div>"
          },
          "metadata": {},
          "execution_count": 9
        }
      ]
    },
    {
      "cell_type": "code",
      "metadata": {
        "colab": {
          "base_uri": "https://localhost:8080/",
          "height": 424
        },
        "id": "vqxnnxAC4mwd",
        "outputId": "6216378b-9a19-4480-a170-5eb4a6159b03"
      },
      "source": [
        "new_df = pd.merge(dataIrca2, dataMineria2,  how='left', left_on=['Año','Municipio','Departamento'], right_on = ['Año Produccion','Municipio Productor','Departamento'])\r\n",
        "new_df2 = new_df.dropna()\r\n",
        "new_df2 = new_df2.reset_index(drop=True)\r\n",
        "new_df2 = new_df2.rename(columns={'Cantidad Producción':'Cantidad', 'Recurso Natural':'Recurso', 'Unidad Medida':'Unidad'})\r\n",
        "#new_df2 = new_df2[new_df2['IRCA'] > 0]\r\n",
        "#new_df2 = new_df2.reset_index(drop=True)\r\n",
        "#print(new_df2['Recurso Natural'].unique())\r\n",
        "new_df2 = new_df2.reset_index(drop=True)\r\n",
        "new_df5 = new_df2.groupby(['Año','Recurso','Unidad']).agg({'IRCA':'mean', 'Cantidad':'mean'}).reset_index()\r\n",
        "new_df5 = new_df5.rename(columns={'Cantidad Producción':'Cantidad', 'Recurso Natural':'Recurso', 'Unidad Medida':'Unidad'})\r\n",
        "new_df5"
      ],
      "execution_count": 10,
      "outputs": [
        {
          "output_type": "execute_result",
          "data": {
            "text/plain": [
              "      Año                                            Recurso          Unidad  \\\n",
              "0    2012                                            ARCILLA       TONELADAS   \n",
              "1    2012                               ARCILLAS BENTONITICA       TONELADAS   \n",
              "2    2012                               ARCILLAS CAOLINITICA       TONELADAS   \n",
              "3    2012                                 ARCILLAS CERAMICAS       TONELADAS   \n",
              "4    2012                              ARCILLAS FERRUGINOSAS       TONELADAS   \n",
              "..    ...                                                ...             ...   \n",
              "412  2019                                SERPENTINA EN RAJON       TONELADAS   \n",
              "413  2019                                              TALCO       TONELADAS   \n",
              "414  2019  TRAVERTINO Y CALIZAS CRISTALINAS EN BLOQUE MAY...  METROS CUBICOS   \n",
              "415  2019  TRAVERTINO Y CALIZAS CRISTALINAS EN BLOQUE MEN...  METROS CUBICOS   \n",
              "416  2019                                               YESO       TONELADAS   \n",
              "\n",
              "          IRCA      Cantidad  \n",
              "0    16.204211   1113.736842  \n",
              "1     9.450000    350.000000  \n",
              "2     9.564000    817.600000  \n",
              "3    12.455200  12316.040000  \n",
              "4    20.360000  24217.478261  \n",
              "..         ...           ...  \n",
              "412  37.295000    696.000000  \n",
              "413   1.280000   1624.000000  \n",
              "414   5.395000    246.500000  \n",
              "415   4.420000    408.000000  \n",
              "416  19.796000  50968.600000  \n",
              "\n",
              "[417 rows x 5 columns]"
            ],
            "text/html": "<div>\n<style scoped>\n    .dataframe tbody tr th:only-of-type {\n        vertical-align: middle;\n    }\n\n    .dataframe tbody tr th {\n        vertical-align: top;\n    }\n\n    .dataframe thead th {\n        text-align: right;\n    }\n</style>\n<table border=\"1\" class=\"dataframe\">\n  <thead>\n    <tr style=\"text-align: right;\">\n      <th></th>\n      <th>Año</th>\n      <th>Recurso</th>\n      <th>Unidad</th>\n      <th>IRCA</th>\n      <th>Cantidad</th>\n    </tr>\n  </thead>\n  <tbody>\n    <tr>\n      <th>0</th>\n      <td>2012</td>\n      <td>ARCILLA</td>\n      <td>TONELADAS</td>\n      <td>16.204211</td>\n      <td>1113.736842</td>\n    </tr>\n    <tr>\n      <th>1</th>\n      <td>2012</td>\n      <td>ARCILLAS BENTONITICA</td>\n      <td>TONELADAS</td>\n      <td>9.450000</td>\n      <td>350.000000</td>\n    </tr>\n    <tr>\n      <th>2</th>\n      <td>2012</td>\n      <td>ARCILLAS CAOLINITICA</td>\n      <td>TONELADAS</td>\n      <td>9.564000</td>\n      <td>817.600000</td>\n    </tr>\n    <tr>\n      <th>3</th>\n      <td>2012</td>\n      <td>ARCILLAS CERAMICAS</td>\n      <td>TONELADAS</td>\n      <td>12.455200</td>\n      <td>12316.040000</td>\n    </tr>\n    <tr>\n      <th>4</th>\n      <td>2012</td>\n      <td>ARCILLAS FERRUGINOSAS</td>\n      <td>TONELADAS</td>\n      <td>20.360000</td>\n      <td>24217.478261</td>\n    </tr>\n    <tr>\n      <th>...</th>\n      <td>...</td>\n      <td>...</td>\n      <td>...</td>\n      <td>...</td>\n      <td>...</td>\n    </tr>\n    <tr>\n      <th>412</th>\n      <td>2019</td>\n      <td>SERPENTINA EN RAJON</td>\n      <td>TONELADAS</td>\n      <td>37.295000</td>\n      <td>696.000000</td>\n    </tr>\n    <tr>\n      <th>413</th>\n      <td>2019</td>\n      <td>TALCO</td>\n      <td>TONELADAS</td>\n      <td>1.280000</td>\n      <td>1624.000000</td>\n    </tr>\n    <tr>\n      <th>414</th>\n      <td>2019</td>\n      <td>TRAVERTINO Y CALIZAS CRISTALINAS EN BLOQUE MAY...</td>\n      <td>METROS CUBICOS</td>\n      <td>5.395000</td>\n      <td>246.500000</td>\n    </tr>\n    <tr>\n      <th>415</th>\n      <td>2019</td>\n      <td>TRAVERTINO Y CALIZAS CRISTALINAS EN BLOQUE MEN...</td>\n      <td>METROS CUBICOS</td>\n      <td>4.420000</td>\n      <td>408.000000</td>\n    </tr>\n    <tr>\n      <th>416</th>\n      <td>2019</td>\n      <td>YESO</td>\n      <td>TONELADAS</td>\n      <td>19.796000</td>\n      <td>50968.600000</td>\n    </tr>\n  </tbody>\n</table>\n<p>417 rows × 5 columns</p>\n</div>"
          },
          "metadata": {},
          "execution_count": 10
        }
      ]
    },
    {
      "cell_type": "code",
      "metadata": {
        "colab": {
          "base_uri": "https://localhost:8080/",
          "height": 548
        },
        "id": "GfHIpaM__mFU",
        "outputId": "532fffd2-4efa-416e-ede3-d3b36af41245"
      },
      "source": [
        "#new_df3 = new_df2[['Año', 'Municipio', 'IRCA', 'Recurso Natural', 'Cantidad Producción']].dropna()\r\n",
        "#new_df3 = new_df3[new_df3['Recurso Natural'].isin(['ORO', 'PLATA', 'COBRE', 'AZUFRE'])]\r\n",
        "table = pd.pivot_table(new_df5, values='Cantidad', index=['IRCA'], columns=['Recurso'], aggfunc=np.max)\r\n",
        "table = table.reset_index()\r\n",
        "table"
      ],
      "execution_count": 11,
      "outputs": [
        {
          "output_type": "execute_result",
          "data": {
            "text/plain": [
              "Recurso   IRCA  ARCILLA  ARCILLAS BENTONITICA  ARCILLAS CAOLINITICA  \\\n",
              "0         0.00      NaN                   NaN                   NaN   \n",
              "1         0.45      NaN                   NaN                   NaN   \n",
              "2         0.60      NaN                   NaN                   NaN   \n",
              "3         0.65      NaN                   NaN                   NaN   \n",
              "4         0.68      NaN                   NaN                   NaN   \n",
              "..         ...      ...                   ...                   ...   \n",
              "384      58.52      NaN                   NaN                   NaN   \n",
              "385      58.99      NaN                   NaN                   NaN   \n",
              "386      60.25      NaN                   NaN                   NaN   \n",
              "387      61.60      NaN                   NaN                   NaN   \n",
              "388      65.24      NaN                   NaN                   NaN   \n",
              "\n",
              "Recurso  ARCILLAS CERAMICAS  ARCILLAS FERRUGINOSAS  ARCILLAS MISCELANEAS  \\\n",
              "0                       NaN                    NaN                   NaN   \n",
              "1                       NaN                    NaN                   NaN   \n",
              "2                       NaN                    NaN                   NaN   \n",
              "3                       NaN                    NaN                   NaN   \n",
              "4                       NaN                    NaN                   NaN   \n",
              "..                      ...                    ...                   ...   \n",
              "384                     NaN                    NaN                   NaN   \n",
              "385                     NaN                    NaN                   NaN   \n",
              "386                     NaN                    NaN                   NaN   \n",
              "387                     NaN                    NaN                   NaN   \n",
              "388                     NaN                    NaN                   NaN   \n",
              "\n",
              "Recurso  ARCILLAS REFRACTARIAS  ARENA DE CANTERA  ARENA DE RIO  ...  \\\n",
              "0                          NaN               NaN           NaN  ...   \n",
              "1                          NaN               NaN           NaN  ...   \n",
              "2                          NaN               NaN           NaN  ...   \n",
              "3                          NaN               NaN           NaN  ...   \n",
              "4                          NaN               NaN           NaN  ...   \n",
              "..                         ...               ...           ...  ...   \n",
              "384                        NaN               NaN           NaN  ...   \n",
              "385                        NaN               NaN           NaN  ...   \n",
              "386                        NaN               NaN           NaN  ...   \n",
              "387                        NaN               NaN           NaN  ...   \n",
              "388                        NaN               NaN           NaN  ...   \n",
              "\n",
              "Recurso  SERPENTINA (BLOQUE MAYOR O IGUAL A 1 M3)  \\\n",
              "0                                             NaN   \n",
              "1                                             NaN   \n",
              "2                                             NaN   \n",
              "3                                             NaN   \n",
              "4                                            52.0   \n",
              "..                                            ...   \n",
              "384                                         672.0   \n",
              "385                                           NaN   \n",
              "386                                           NaN   \n",
              "387                                           NaN   \n",
              "388                                           NaN   \n",
              "\n",
              "Recurso  SERPENTINA (BLOQUE MENOR A 1 M3)  SERPENTINA (SILICATO DE MAGNESIO)  \\\n",
              "0                                     NaN                                NaN   \n",
              "1                                     NaN                                NaN   \n",
              "2                                     NaN                                NaN   \n",
              "3                                     NaN                                NaN   \n",
              "4                                     NaN                                NaN   \n",
              "..                                    ...                                ...   \n",
              "384                                   NaN                                NaN   \n",
              "385                                   NaN                                NaN   \n",
              "386                                   NaN                                NaN   \n",
              "387                                   NaN                                NaN   \n",
              "388                                   NaN                                NaN   \n",
              "\n",
              "Recurso  SERPENTINA EN RAJON  TALCO  TANTALIO  \\\n",
              "0                        NaN    NaN       NaN   \n",
              "1                       12.0    NaN       NaN   \n",
              "2                        NaN    NaN       NaN   \n",
              "3                        NaN    NaN       NaN   \n",
              "4                        NaN    NaN       NaN   \n",
              "..                       ...    ...       ...   \n",
              "384                      NaN    NaN       NaN   \n",
              "385                      NaN    NaN       NaN   \n",
              "386                      NaN    NaN       NaN   \n",
              "387                      NaN    NaN       NaN   \n",
              "388                      NaN    NaN       NaN   \n",
              "\n",
              "Recurso  TRAVERTINO Y CALIZAS CRISTALINAS EN BLOQUE MAYOR O IGUAL A 1 M3  \\\n",
              "0                                                      NaN                 \n",
              "1                                                      NaN                 \n",
              "2                                                      NaN                 \n",
              "3                                                      NaN                 \n",
              "4                                                      NaN                 \n",
              "..                                                     ...                 \n",
              "384                                                    NaN                 \n",
              "385                                                    NaN                 \n",
              "386                                                    NaN                 \n",
              "387                                                    NaN                 \n",
              "388                                                    NaN                 \n",
              "\n",
              "Recurso  TRAVERTINO Y CALIZAS CRISTALINAS EN BLOQUE MENOR A 1 M3  VOLFRAMIO  \\\n",
              "0                                                      NaN              NaN   \n",
              "1                                                      NaN              NaN   \n",
              "2                                                      NaN              NaN   \n",
              "3                                                      NaN              NaN   \n",
              "4                                                      NaN              NaN   \n",
              "..                                                     ...              ...   \n",
              "384                                                    NaN              NaN   \n",
              "385                                                    NaN              NaN   \n",
              "386                                                    NaN              NaN   \n",
              "387                                                    NaN           2840.0   \n",
              "388                                                    NaN              NaN   \n",
              "\n",
              "Recurso  YESO  \n",
              "0         NaN  \n",
              "1         NaN  \n",
              "2         NaN  \n",
              "3         NaN  \n",
              "4         NaN  \n",
              "..        ...  \n",
              "384       NaN  \n",
              "385       NaN  \n",
              "386       NaN  \n",
              "387       NaN  \n",
              "388       NaN  \n",
              "\n",
              "[389 rows x 70 columns]"
            ],
            "text/html": "<div>\n<style scoped>\n    .dataframe tbody tr th:only-of-type {\n        vertical-align: middle;\n    }\n\n    .dataframe tbody tr th {\n        vertical-align: top;\n    }\n\n    .dataframe thead th {\n        text-align: right;\n    }\n</style>\n<table border=\"1\" class=\"dataframe\">\n  <thead>\n    <tr style=\"text-align: right;\">\n      <th>Recurso</th>\n      <th>IRCA</th>\n      <th>ARCILLA</th>\n      <th>ARCILLAS BENTONITICA</th>\n      <th>ARCILLAS CAOLINITICA</th>\n      <th>ARCILLAS CERAMICAS</th>\n      <th>ARCILLAS FERRUGINOSAS</th>\n      <th>ARCILLAS MISCELANEAS</th>\n      <th>ARCILLAS REFRACTARIAS</th>\n      <th>ARENA DE CANTERA</th>\n      <th>ARENA DE RIO</th>\n      <th>...</th>\n      <th>SERPENTINA (BLOQUE MAYOR O IGUAL A 1 M3)</th>\n      <th>SERPENTINA (BLOQUE MENOR A 1 M3)</th>\n      <th>SERPENTINA (SILICATO DE MAGNESIO)</th>\n      <th>SERPENTINA EN RAJON</th>\n      <th>TALCO</th>\n      <th>TANTALIO</th>\n      <th>TRAVERTINO Y CALIZAS CRISTALINAS EN BLOQUE MAYOR O IGUAL A 1 M3</th>\n      <th>TRAVERTINO Y CALIZAS CRISTALINAS EN BLOQUE MENOR A 1 M3</th>\n      <th>VOLFRAMIO</th>\n      <th>YESO</th>\n    </tr>\n  </thead>\n  <tbody>\n    <tr>\n      <th>0</th>\n      <td>0.00</td>\n      <td>NaN</td>\n      <td>NaN</td>\n      <td>NaN</td>\n      <td>NaN</td>\n      <td>NaN</td>\n      <td>NaN</td>\n      <td>NaN</td>\n      <td>NaN</td>\n      <td>NaN</td>\n      <td>...</td>\n      <td>NaN</td>\n      <td>NaN</td>\n      <td>NaN</td>\n      <td>NaN</td>\n      <td>NaN</td>\n      <td>NaN</td>\n      <td>NaN</td>\n      <td>NaN</td>\n      <td>NaN</td>\n      <td>NaN</td>\n    </tr>\n    <tr>\n      <th>1</th>\n      <td>0.45</td>\n      <td>NaN</td>\n      <td>NaN</td>\n      <td>NaN</td>\n      <td>NaN</td>\n      <td>NaN</td>\n      <td>NaN</td>\n      <td>NaN</td>\n      <td>NaN</td>\n      <td>NaN</td>\n      <td>...</td>\n      <td>NaN</td>\n      <td>NaN</td>\n      <td>NaN</td>\n      <td>12.0</td>\n      <td>NaN</td>\n      <td>NaN</td>\n      <td>NaN</td>\n      <td>NaN</td>\n      <td>NaN</td>\n      <td>NaN</td>\n    </tr>\n    <tr>\n      <th>2</th>\n      <td>0.60</td>\n      <td>NaN</td>\n      <td>NaN</td>\n      <td>NaN</td>\n      <td>NaN</td>\n      <td>NaN</td>\n      <td>NaN</td>\n      <td>NaN</td>\n      <td>NaN</td>\n      <td>NaN</td>\n      <td>...</td>\n      <td>NaN</td>\n      <td>NaN</td>\n      <td>NaN</td>\n      <td>NaN</td>\n      <td>NaN</td>\n      <td>NaN</td>\n      <td>NaN</td>\n      <td>NaN</td>\n      <td>NaN</td>\n      <td>NaN</td>\n    </tr>\n    <tr>\n      <th>3</th>\n      <td>0.65</td>\n      <td>NaN</td>\n      <td>NaN</td>\n      <td>NaN</td>\n      <td>NaN</td>\n      <td>NaN</td>\n      <td>NaN</td>\n      <td>NaN</td>\n      <td>NaN</td>\n      <td>NaN</td>\n      <td>...</td>\n      <td>NaN</td>\n      <td>NaN</td>\n      <td>NaN</td>\n      <td>NaN</td>\n      <td>NaN</td>\n      <td>NaN</td>\n      <td>NaN</td>\n      <td>NaN</td>\n      <td>NaN</td>\n      <td>NaN</td>\n    </tr>\n    <tr>\n      <th>4</th>\n      <td>0.68</td>\n      <td>NaN</td>\n      <td>NaN</td>\n      <td>NaN</td>\n      <td>NaN</td>\n      <td>NaN</td>\n      <td>NaN</td>\n      <td>NaN</td>\n      <td>NaN</td>\n      <td>NaN</td>\n      <td>...</td>\n      <td>52.0</td>\n      <td>NaN</td>\n      <td>NaN</td>\n      <td>NaN</td>\n      <td>NaN</td>\n      <td>NaN</td>\n      <td>NaN</td>\n      <td>NaN</td>\n      <td>NaN</td>\n      <td>NaN</td>\n    </tr>\n    <tr>\n      <th>...</th>\n      <td>...</td>\n      <td>...</td>\n      <td>...</td>\n      <td>...</td>\n      <td>...</td>\n      <td>...</td>\n      <td>...</td>\n      <td>...</td>\n      <td>...</td>\n      <td>...</td>\n      <td>...</td>\n      <td>...</td>\n      <td>...</td>\n      <td>...</td>\n      <td>...</td>\n      <td>...</td>\n      <td>...</td>\n      <td>...</td>\n      <td>...</td>\n      <td>...</td>\n      <td>...</td>\n    </tr>\n    <tr>\n      <th>384</th>\n      <td>58.52</td>\n      <td>NaN</td>\n      <td>NaN</td>\n      <td>NaN</td>\n      <td>NaN</td>\n      <td>NaN</td>\n      <td>NaN</td>\n      <td>NaN</td>\n      <td>NaN</td>\n      <td>NaN</td>\n      <td>...</td>\n      <td>672.0</td>\n      <td>NaN</td>\n      <td>NaN</td>\n      <td>NaN</td>\n      <td>NaN</td>\n      <td>NaN</td>\n      <td>NaN</td>\n      <td>NaN</td>\n      <td>NaN</td>\n      <td>NaN</td>\n    </tr>\n    <tr>\n      <th>385</th>\n      <td>58.99</td>\n      <td>NaN</td>\n      <td>NaN</td>\n      <td>NaN</td>\n      <td>NaN</td>\n      <td>NaN</td>\n      <td>NaN</td>\n      <td>NaN</td>\n      <td>NaN</td>\n      <td>NaN</td>\n      <td>...</td>\n      <td>NaN</td>\n      <td>NaN</td>\n      <td>NaN</td>\n      <td>NaN</td>\n      <td>NaN</td>\n      <td>NaN</td>\n      <td>NaN</td>\n      <td>NaN</td>\n      <td>NaN</td>\n      <td>NaN</td>\n    </tr>\n    <tr>\n      <th>386</th>\n      <td>60.25</td>\n      <td>NaN</td>\n      <td>NaN</td>\n      <td>NaN</td>\n      <td>NaN</td>\n      <td>NaN</td>\n      <td>NaN</td>\n      <td>NaN</td>\n      <td>NaN</td>\n      <td>NaN</td>\n      <td>...</td>\n      <td>NaN</td>\n      <td>NaN</td>\n      <td>NaN</td>\n      <td>NaN</td>\n      <td>NaN</td>\n      <td>NaN</td>\n      <td>NaN</td>\n      <td>NaN</td>\n      <td>NaN</td>\n      <td>NaN</td>\n    </tr>\n    <tr>\n      <th>387</th>\n      <td>61.60</td>\n      <td>NaN</td>\n      <td>NaN</td>\n      <td>NaN</td>\n      <td>NaN</td>\n      <td>NaN</td>\n      <td>NaN</td>\n      <td>NaN</td>\n      <td>NaN</td>\n      <td>NaN</td>\n      <td>...</td>\n      <td>NaN</td>\n      <td>NaN</td>\n      <td>NaN</td>\n      <td>NaN</td>\n      <td>NaN</td>\n      <td>NaN</td>\n      <td>NaN</td>\n      <td>NaN</td>\n      <td>2840.0</td>\n      <td>NaN</td>\n    </tr>\n    <tr>\n      <th>388</th>\n      <td>65.24</td>\n      <td>NaN</td>\n      <td>NaN</td>\n      <td>NaN</td>\n      <td>NaN</td>\n      <td>NaN</td>\n      <td>NaN</td>\n      <td>NaN</td>\n      <td>NaN</td>\n      <td>NaN</td>\n      <td>...</td>\n      <td>NaN</td>\n      <td>NaN</td>\n      <td>NaN</td>\n      <td>NaN</td>\n      <td>NaN</td>\n      <td>NaN</td>\n      <td>NaN</td>\n      <td>NaN</td>\n      <td>NaN</td>\n      <td>NaN</td>\n    </tr>\n  </tbody>\n</table>\n<p>389 rows × 70 columns</p>\n</div>"
          },
          "metadata": {},
          "execution_count": 11
        }
      ]
    },
    {
      "cell_type": "code",
      "metadata": {
        "id": "AfrlXLTQNX_S"
      },
      "source": [
        "#plt.plot(new_df6['IRCA'], new_df6['Cantidad'])"
      ],
      "execution_count": null,
      "outputs": []
    },
    {
      "cell_type": "code",
      "metadata": {
        "colab": {
          "base_uri": "https://localhost:8080/"
        },
        "id": "bnn6LJrsDqyd",
        "outputId": "fe223ab1-0572-4470-f3e3-65b0535cc53b"
      },
      "source": [
        "new_df5['Recurso'].unique()"
      ],
      "execution_count": 12,
      "outputs": [
        {
          "output_type": "execute_result",
          "data": {
            "text/plain": [
              "array(['ARCILLA', 'ARCILLAS BENTONITICA', 'ARCILLAS CAOLINITICA',\n",
              "       'ARCILLAS CERAMICAS', 'ARCILLAS FERRUGINOSAS',\n",
              "       'ARCILLAS MISCELANEAS', 'ARENA DE CANTERA', 'ARENA DE RIO',\n",
              "       'ARENAS', 'ARENAS NEGRAS', 'ARENAS SILICEAS', 'ASFALTITA',\n",
              "       'AZUFRE', 'BARITA', 'BASALTO', 'BAUXITA', 'CALIZAS', 'CARBON',\n",
              "       'CROMO - CROMITA', 'DIABASA', 'DOLOMITA', 'ESMERALDAS',\n",
              "       'ESMERALDAS EN BRUTO', 'ESMERALDAS ENGASTADA',\n",
              "       'ESMERALDAS SEMIPRECIOSA', 'ESMERALDAS TALLADAS', 'FELDESPATOS',\n",
              "       'GRAVA DE CANTERA', 'GRAVAS', 'GRAVAS DE RIO', 'HIERRO',\n",
              "       'MANGANESO', 'MARMOL', 'MARMOL (BLOQUE MAYOR O IGUAL A 1 M3)',\n",
              "       'MARMOL (BLOQUE MENOR A 1 M3)', 'NIQUEL', 'ORO', 'PLATA',\n",
              "       'PLATINO', 'PUZOLANAS', 'RECEBO',\n",
              "       'ROCA CORALINA (BLOQUE MAYOR O IGUAL A 1 M3)', 'ROCA FOSFORICA',\n",
              "       'SAL', 'SERPENTINA (SILICATO DE MAGNESIO)', 'SERPENTINA EN RAJON',\n",
              "       'TALCO',\n",
              "       'TRAVERTINO Y CALIZAS CRISTALINAS EN BLOQUE MAYOR O IGUAL A 1 M3',\n",
              "       'VOLFRAMIO', 'YESO', 'ARCILLAS REFRACTARIAS', 'COBRE', 'CUARZO',\n",
              "       'FLUORITA', 'PIEDRA ARENISCA-PIEDRA BOGOTANA',\n",
              "       'SERPENTINA (BLOQUE MAYOR O IGUAL A 1 M3)',\n",
              "       'SERPENTINA (BLOQUE MENOR A 1 M3)', 'CARBONATO DE CALCIO',\n",
              "       'ESTANO', 'GRAVAs DE RIO', 'NIOBIO',\n",
              "       'ROCA CORALINA (BLOQUE MENOR A 1 M3)',\n",
              "       'TRAVERTINO Y CALIZAS CRISTALINAS EN BLOQUE MENOR A 1 M3',\n",
              "       'GRANITO (BLOQUE MAYOR O IGUAL A 1 M3)',\n",
              "       'MINERAL DE MAGNESIO (MAGNESITA)',\n",
              "       'MARMOL EN RAJÓN (RETAL DE MÁRMOL)', 'ASBESTO', 'TANTALIO',\n",
              "       'GRAFITO'], dtype=object)"
            ]
          },
          "metadata": {},
          "execution_count": 12
        }
      ]
    },
    {
      "cell_type": "code",
      "metadata": {
        "colab": {
          "base_uri": "https://localhost:8080/",
          "height": 718
        },
        "id": "O3-trJmv7HId",
        "outputId": "a0d1a643-317d-4633-c9ff-7dab59004bad"
      },
      "source": [
        "corr_mat  = table[['IRCA', 'ARCILLA', 'ARCILLAS BENTONITICA', 'ARCILLAS CAOLINITICA',\r\n",
        "       'ARCILLAS CERAMICAS', 'ARCILLAS FERRUGINOSAS',\r\n",
        "       'ARCILLAS MISCELANEAS', 'ARENA DE CANTERA', 'ARENA DE RIO',\r\n",
        "       'ARENAS', 'ARENAS NEGRAS', 'ARENAS SILICEAS', 'ASFALTITA',\r\n",
        "       'AZUFRE', 'BARITA', 'BASALTO', 'BAUXITA', 'CALIZAS', 'CARBON',\r\n",
        "       'CROMO - CROMITA', 'DIABASA', 'DOLOMITA', 'ESMERALDAS',\r\n",
        "       'ESMERALDAS EN BRUTO', 'ESMERALDAS ENGASTADA',\r\n",
        "       'ESMERALDAS SEMIPRECIOSA', 'ESMERALDAS TALLADAS', 'FELDESPATOS',\r\n",
        "       'GRAVA DE CANTERA', 'GRAVAS', 'GRAVAS DE RIO', 'HIERRO',\r\n",
        "       'MANGANESO', 'MARMOL', 'MARMOL (BLOQUE MAYOR O IGUAL A 1 M3)',\r\n",
        "       'MARMOL (BLOQUE MENOR A 1 M3)', 'NIQUEL', 'ORO', 'PLATA',\r\n",
        "       'PLATINO', 'PUZOLANAS', 'RECEBO',\r\n",
        "       'ROCA CORALINA (BLOQUE MAYOR O IGUAL A 1 M3)', 'ROCA FOSFORICA',\r\n",
        "       'SAL', 'SERPENTINA (SILICATO DE MAGNESIO)', 'SERPENTINA EN RAJON',\r\n",
        "       'TALCO',\r\n",
        "       'TRAVERTINO Y CALIZAS CRISTALINAS EN BLOQUE MAYOR O IGUAL A 1 M3',\r\n",
        "       'VOLFRAMIO', 'YESO', 'ARCILLAS REFRACTARIAS', 'COBRE', 'CUARZO',\r\n",
        "       'FLUORITA', 'PIEDRA ARENISCA-PIEDRA BOGOTANA',\r\n",
        "       'SERPENTINA (BLOQUE MAYOR O IGUAL A 1 M3)',\r\n",
        "       'SERPENTINA (BLOQUE MENOR A 1 M3)', 'CARBONATO DE CALCIO',\r\n",
        "       'ESTANO', 'GRAVAs DE RIO', 'NIOBIO',\r\n",
        "       'ROCA CORALINA (BLOQUE MENOR A 1 M3)',\r\n",
        "       'TRAVERTINO Y CALIZAS CRISTALINAS EN BLOQUE MENOR A 1 M3',\r\n",
        "       'GRANITO (BLOQUE MAYOR O IGUAL A 1 M3)',\r\n",
        "       'MINERAL DE MAGNESIO (MAGNESITA)',\r\n",
        "       'MARMOL EN RAJÓN (RETAL DE MÁRMOL)', 'ASBESTO', 'TANTALIO',\r\n",
        "       'GRAFITO']].corr()\r\n",
        "corr_mat"
      ],
      "execution_count": 13,
      "outputs": [
        {
          "output_type": "execute_result",
          "data": {
            "text/plain": [
              "Recurso                                IRCA   ARCILLA  ARCILLAS BENTONITICA  \\\n",
              "Recurso                                                                       \n",
              "IRCA                               1.000000  0.528994              0.290198   \n",
              "ARCILLA                            0.528994  1.000000                   NaN   \n",
              "ARCILLAS BENTONITICA               0.290198       NaN              1.000000   \n",
              "ARCILLAS CAOLINITICA               0.410445       NaN                   NaN   \n",
              "ARCILLAS CERAMICAS                 0.777554       NaN                   NaN   \n",
              "...                                     ...       ...                   ...   \n",
              "MINERAL DE MAGNESIO (MAGNESITA)    1.000000       NaN                   NaN   \n",
              "MARMOL EN RAJÓN (RETAL DE MÁRMOL)  0.990303       NaN                   NaN   \n",
              "ASBESTO                                 NaN       NaN                   NaN   \n",
              "TANTALIO                                NaN       NaN                   NaN   \n",
              "GRAFITO                                 NaN       NaN                   NaN   \n",
              "\n",
              "Recurso                            ARCILLAS CAOLINITICA  ARCILLAS CERAMICAS  \\\n",
              "Recurso                                                                       \n",
              "IRCA                                           0.410445            0.777554   \n",
              "ARCILLA                                             NaN                 NaN   \n",
              "ARCILLAS BENTONITICA                                NaN                 NaN   \n",
              "ARCILLAS CAOLINITICA                           1.000000                 NaN   \n",
              "ARCILLAS CERAMICAS                                  NaN            1.000000   \n",
              "...                                                 ...                 ...   \n",
              "MINERAL DE MAGNESIO (MAGNESITA)                     NaN                 NaN   \n",
              "MARMOL EN RAJÓN (RETAL DE MÁRMOL)                   NaN                 NaN   \n",
              "ASBESTO                                             NaN                 NaN   \n",
              "TANTALIO                                            NaN                 NaN   \n",
              "GRAFITO                                             NaN                 NaN   \n",
              "\n",
              "Recurso                            ARCILLAS FERRUGINOSAS  \\\n",
              "Recurso                                                    \n",
              "IRCA                                            0.110724   \n",
              "ARCILLA                                              NaN   \n",
              "ARCILLAS BENTONITICA                                 NaN   \n",
              "ARCILLAS CAOLINITICA                                 NaN   \n",
              "ARCILLAS CERAMICAS                                   NaN   \n",
              "...                                                  ...   \n",
              "MINERAL DE MAGNESIO (MAGNESITA)                      NaN   \n",
              "MARMOL EN RAJÓN (RETAL DE MÁRMOL)                    NaN   \n",
              "ASBESTO                                              NaN   \n",
              "TANTALIO                                             NaN   \n",
              "GRAFITO                                              NaN   \n",
              "\n",
              "Recurso                            ARCILLAS MISCELANEAS  ARENA DE CANTERA  \\\n",
              "Recurso                                                                     \n",
              "IRCA                                          -0.363838          0.347054   \n",
              "ARCILLA                                             NaN               NaN   \n",
              "ARCILLAS BENTONITICA                                NaN               NaN   \n",
              "ARCILLAS CAOLINITICA                                NaN               NaN   \n",
              "ARCILLAS CERAMICAS                                  NaN               NaN   \n",
              "...                                                 ...               ...   \n",
              "MINERAL DE MAGNESIO (MAGNESITA)                     NaN               NaN   \n",
              "MARMOL EN RAJÓN (RETAL DE MÁRMOL)                   NaN               NaN   \n",
              "ASBESTO                                             NaN               NaN   \n",
              "TANTALIO                                            NaN               NaN   \n",
              "GRAFITO                                             NaN               NaN   \n",
              "\n",
              "Recurso                            ARENA DE RIO    ARENAS  ...  GRAVAs DE RIO  \\\n",
              "Recurso                                                    ...                  \n",
              "IRCA                                  -0.116824 -0.733876  ...        0.49498   \n",
              "ARCILLA                                     NaN       NaN  ...            NaN   \n",
              "ARCILLAS BENTONITICA                        NaN       NaN  ...            NaN   \n",
              "ARCILLAS CAOLINITICA                        NaN       NaN  ...            NaN   \n",
              "ARCILLAS CERAMICAS                          NaN       NaN  ...            NaN   \n",
              "...                                         ...       ...  ...            ...   \n",
              "MINERAL DE MAGNESIO (MAGNESITA)             NaN       NaN  ...            NaN   \n",
              "MARMOL EN RAJÓN (RETAL DE MÁRMOL)           NaN       NaN  ...            NaN   \n",
              "ASBESTO                                     NaN       NaN  ...            NaN   \n",
              "TANTALIO                                    NaN       NaN  ...            NaN   \n",
              "GRAFITO                                     NaN       NaN  ...            NaN   \n",
              "\n",
              "Recurso                              NIOBIO  \\\n",
              "Recurso                                       \n",
              "IRCA                               0.935708   \n",
              "ARCILLA                                 NaN   \n",
              "ARCILLAS BENTONITICA                    NaN   \n",
              "ARCILLAS CAOLINITICA                    NaN   \n",
              "ARCILLAS CERAMICAS                      NaN   \n",
              "...                                     ...   \n",
              "MINERAL DE MAGNESIO (MAGNESITA)         NaN   \n",
              "MARMOL EN RAJÓN (RETAL DE MÁRMOL)       NaN   \n",
              "ASBESTO                                 NaN   \n",
              "TANTALIO                                NaN   \n",
              "GRAFITO                                 NaN   \n",
              "\n",
              "Recurso                            ROCA CORALINA (BLOQUE MENOR A 1 M3)  \\\n",
              "Recurso                                                                  \n",
              "IRCA                                                          0.842906   \n",
              "ARCILLA                                                            NaN   \n",
              "ARCILLAS BENTONITICA                                               NaN   \n",
              "ARCILLAS CAOLINITICA                                               NaN   \n",
              "ARCILLAS CERAMICAS                                                 NaN   \n",
              "...                                                                ...   \n",
              "MINERAL DE MAGNESIO (MAGNESITA)                                    NaN   \n",
              "MARMOL EN RAJÓN (RETAL DE MÁRMOL)                                  NaN   \n",
              "ASBESTO                                                            NaN   \n",
              "TANTALIO                                                           NaN   \n",
              "GRAFITO                                                            NaN   \n",
              "\n",
              "Recurso                            TRAVERTINO Y CALIZAS CRISTALINAS EN BLOQUE MENOR A 1 M3  \\\n",
              "Recurso                                                                                      \n",
              "IRCA                                                                        0.497885         \n",
              "ARCILLA                                                                          NaN         \n",
              "ARCILLAS BENTONITICA                                                             NaN         \n",
              "ARCILLAS CAOLINITICA                                                             NaN         \n",
              "ARCILLAS CERAMICAS                                                               NaN         \n",
              "...                                                                              ...         \n",
              "MINERAL DE MAGNESIO (MAGNESITA)                                                  NaN         \n",
              "MARMOL EN RAJÓN (RETAL DE MÁRMOL)                                                NaN         \n",
              "ASBESTO                                                                          NaN         \n",
              "TANTALIO                                                                         NaN         \n",
              "GRAFITO                                                                          NaN         \n",
              "\n",
              "Recurso                            GRANITO (BLOQUE MAYOR O IGUAL A 1 M3)  \\\n",
              "Recurso                                                                    \n",
              "IRCA                                                                 NaN   \n",
              "ARCILLA                                                              NaN   \n",
              "ARCILLAS BENTONITICA                                                 NaN   \n",
              "ARCILLAS CAOLINITICA                                                 NaN   \n",
              "ARCILLAS CERAMICAS                                                   NaN   \n",
              "...                                                                  ...   \n",
              "MINERAL DE MAGNESIO (MAGNESITA)                                      NaN   \n",
              "MARMOL EN RAJÓN (RETAL DE MÁRMOL)                                    NaN   \n",
              "ASBESTO                                                              NaN   \n",
              "TANTALIO                                                             NaN   \n",
              "GRAFITO                                                              NaN   \n",
              "\n",
              "Recurso                            MINERAL DE MAGNESIO (MAGNESITA)  \\\n",
              "Recurso                                                              \n",
              "IRCA                                                           1.0   \n",
              "ARCILLA                                                        NaN   \n",
              "ARCILLAS BENTONITICA                                           NaN   \n",
              "ARCILLAS CAOLINITICA                                           NaN   \n",
              "ARCILLAS CERAMICAS                                             NaN   \n",
              "...                                                            ...   \n",
              "MINERAL DE MAGNESIO (MAGNESITA)                                1.0   \n",
              "MARMOL EN RAJÓN (RETAL DE MÁRMOL)                              NaN   \n",
              "ASBESTO                                                        NaN   \n",
              "TANTALIO                                                       NaN   \n",
              "GRAFITO                                                        NaN   \n",
              "\n",
              "Recurso                            MARMOL EN RAJÓN (RETAL DE MÁRMOL)  ASBESTO  \\\n",
              "Recurso                                                                         \n",
              "IRCA                                                        0.990303      NaN   \n",
              "ARCILLA                                                          NaN      NaN   \n",
              "ARCILLAS BENTONITICA                                             NaN      NaN   \n",
              "ARCILLAS CAOLINITICA                                             NaN      NaN   \n",
              "ARCILLAS CERAMICAS                                               NaN      NaN   \n",
              "...                                                              ...      ...   \n",
              "MINERAL DE MAGNESIO (MAGNESITA)                                  NaN      NaN   \n",
              "MARMOL EN RAJÓN (RETAL DE MÁRMOL)                           1.000000      NaN   \n",
              "ASBESTO                                                          NaN      NaN   \n",
              "TANTALIO                                                         NaN      NaN   \n",
              "GRAFITO                                                          NaN      NaN   \n",
              "\n",
              "Recurso                            TANTALIO  GRAFITO  \n",
              "Recurso                                               \n",
              "IRCA                                    NaN      NaN  \n",
              "ARCILLA                                 NaN      NaN  \n",
              "ARCILLAS BENTONITICA                    NaN      NaN  \n",
              "ARCILLAS CAOLINITICA                    NaN      NaN  \n",
              "ARCILLAS CERAMICAS                      NaN      NaN  \n",
              "...                                     ...      ...  \n",
              "MINERAL DE MAGNESIO (MAGNESITA)         NaN      NaN  \n",
              "MARMOL EN RAJÓN (RETAL DE MÁRMOL)       NaN      NaN  \n",
              "ASBESTO                                 NaN      NaN  \n",
              "TANTALIO                                NaN      NaN  \n",
              "GRAFITO                                 NaN      NaN  \n",
              "\n",
              "[70 rows x 70 columns]"
            ],
            "text/html": "<div>\n<style scoped>\n    .dataframe tbody tr th:only-of-type {\n        vertical-align: middle;\n    }\n\n    .dataframe tbody tr th {\n        vertical-align: top;\n    }\n\n    .dataframe thead th {\n        text-align: right;\n    }\n</style>\n<table border=\"1\" class=\"dataframe\">\n  <thead>\n    <tr style=\"text-align: right;\">\n      <th>Recurso</th>\n      <th>IRCA</th>\n      <th>ARCILLA</th>\n      <th>ARCILLAS BENTONITICA</th>\n      <th>ARCILLAS CAOLINITICA</th>\n      <th>ARCILLAS CERAMICAS</th>\n      <th>ARCILLAS FERRUGINOSAS</th>\n      <th>ARCILLAS MISCELANEAS</th>\n      <th>ARENA DE CANTERA</th>\n      <th>ARENA DE RIO</th>\n      <th>ARENAS</th>\n      <th>...</th>\n      <th>GRAVAs DE RIO</th>\n      <th>NIOBIO</th>\n      <th>ROCA CORALINA (BLOQUE MENOR A 1 M3)</th>\n      <th>TRAVERTINO Y CALIZAS CRISTALINAS EN BLOQUE MENOR A 1 M3</th>\n      <th>GRANITO (BLOQUE MAYOR O IGUAL A 1 M3)</th>\n      <th>MINERAL DE MAGNESIO (MAGNESITA)</th>\n      <th>MARMOL EN RAJÓN (RETAL DE MÁRMOL)</th>\n      <th>ASBESTO</th>\n      <th>TANTALIO</th>\n      <th>GRAFITO</th>\n    </tr>\n    <tr>\n      <th>Recurso</th>\n      <th></th>\n      <th></th>\n      <th></th>\n      <th></th>\n      <th></th>\n      <th></th>\n      <th></th>\n      <th></th>\n      <th></th>\n      <th></th>\n      <th></th>\n      <th></th>\n      <th></th>\n      <th></th>\n      <th></th>\n      <th></th>\n      <th></th>\n      <th></th>\n      <th></th>\n      <th></th>\n      <th></th>\n    </tr>\n  </thead>\n  <tbody>\n    <tr>\n      <th>IRCA</th>\n      <td>1.000000</td>\n      <td>0.528994</td>\n      <td>0.290198</td>\n      <td>0.410445</td>\n      <td>0.777554</td>\n      <td>0.110724</td>\n      <td>-0.363838</td>\n      <td>0.347054</td>\n      <td>-0.116824</td>\n      <td>-0.733876</td>\n      <td>...</td>\n      <td>0.49498</td>\n      <td>0.935708</td>\n      <td>0.842906</td>\n      <td>0.497885</td>\n      <td>NaN</td>\n      <td>1.0</td>\n      <td>0.990303</td>\n      <td>NaN</td>\n      <td>NaN</td>\n      <td>NaN</td>\n    </tr>\n    <tr>\n      <th>ARCILLA</th>\n      <td>0.528994</td>\n      <td>1.000000</td>\n      <td>NaN</td>\n      <td>NaN</td>\n      <td>NaN</td>\n      <td>NaN</td>\n      <td>NaN</td>\n      <td>NaN</td>\n      <td>NaN</td>\n      <td>NaN</td>\n      <td>...</td>\n      <td>NaN</td>\n      <td>NaN</td>\n      <td>NaN</td>\n      <td>NaN</td>\n      <td>NaN</td>\n      <td>NaN</td>\n      <td>NaN</td>\n      <td>NaN</td>\n      <td>NaN</td>\n      <td>NaN</td>\n    </tr>\n    <tr>\n      <th>ARCILLAS BENTONITICA</th>\n      <td>0.290198</td>\n      <td>NaN</td>\n      <td>1.000000</td>\n      <td>NaN</td>\n      <td>NaN</td>\n      <td>NaN</td>\n      <td>NaN</td>\n      <td>NaN</td>\n      <td>NaN</td>\n      <td>NaN</td>\n      <td>...</td>\n      <td>NaN</td>\n      <td>NaN</td>\n      <td>NaN</td>\n      <td>NaN</td>\n      <td>NaN</td>\n      <td>NaN</td>\n      <td>NaN</td>\n      <td>NaN</td>\n      <td>NaN</td>\n      <td>NaN</td>\n    </tr>\n    <tr>\n      <th>ARCILLAS CAOLINITICA</th>\n      <td>0.410445</td>\n      <td>NaN</td>\n      <td>NaN</td>\n      <td>1.000000</td>\n      <td>NaN</td>\n      <td>NaN</td>\n      <td>NaN</td>\n      <td>NaN</td>\n      <td>NaN</td>\n      <td>NaN</td>\n      <td>...</td>\n      <td>NaN</td>\n      <td>NaN</td>\n      <td>NaN</td>\n      <td>NaN</td>\n      <td>NaN</td>\n      <td>NaN</td>\n      <td>NaN</td>\n      <td>NaN</td>\n      <td>NaN</td>\n      <td>NaN</td>\n    </tr>\n    <tr>\n      <th>ARCILLAS CERAMICAS</th>\n      <td>0.777554</td>\n      <td>NaN</td>\n      <td>NaN</td>\n      <td>NaN</td>\n      <td>1.000000</td>\n      <td>NaN</td>\n      <td>NaN</td>\n      <td>NaN</td>\n      <td>NaN</td>\n      <td>NaN</td>\n      <td>...</td>\n      <td>NaN</td>\n      <td>NaN</td>\n      <td>NaN</td>\n      <td>NaN</td>\n      <td>NaN</td>\n      <td>NaN</td>\n      <td>NaN</td>\n      <td>NaN</td>\n      <td>NaN</td>\n      <td>NaN</td>\n    </tr>\n    <tr>\n      <th>...</th>\n      <td>...</td>\n      <td>...</td>\n      <td>...</td>\n      <td>...</td>\n      <td>...</td>\n      <td>...</td>\n      <td>...</td>\n      <td>...</td>\n      <td>...</td>\n      <td>...</td>\n      <td>...</td>\n      <td>...</td>\n      <td>...</td>\n      <td>...</td>\n      <td>...</td>\n      <td>...</td>\n      <td>...</td>\n      <td>...</td>\n      <td>...</td>\n      <td>...</td>\n      <td>...</td>\n    </tr>\n    <tr>\n      <th>MINERAL DE MAGNESIO (MAGNESITA)</th>\n      <td>1.000000</td>\n      <td>NaN</td>\n      <td>NaN</td>\n      <td>NaN</td>\n      <td>NaN</td>\n      <td>NaN</td>\n      <td>NaN</td>\n      <td>NaN</td>\n      <td>NaN</td>\n      <td>NaN</td>\n      <td>...</td>\n      <td>NaN</td>\n      <td>NaN</td>\n      <td>NaN</td>\n      <td>NaN</td>\n      <td>NaN</td>\n      <td>1.0</td>\n      <td>NaN</td>\n      <td>NaN</td>\n      <td>NaN</td>\n      <td>NaN</td>\n    </tr>\n    <tr>\n      <th>MARMOL EN RAJÓN (RETAL DE MÁRMOL)</th>\n      <td>0.990303</td>\n      <td>NaN</td>\n      <td>NaN</td>\n      <td>NaN</td>\n      <td>NaN</td>\n      <td>NaN</td>\n      <td>NaN</td>\n      <td>NaN</td>\n      <td>NaN</td>\n      <td>NaN</td>\n      <td>...</td>\n      <td>NaN</td>\n      <td>NaN</td>\n      <td>NaN</td>\n      <td>NaN</td>\n      <td>NaN</td>\n      <td>NaN</td>\n      <td>1.000000</td>\n      <td>NaN</td>\n      <td>NaN</td>\n      <td>NaN</td>\n    </tr>\n    <tr>\n      <th>ASBESTO</th>\n      <td>NaN</td>\n      <td>NaN</td>\n      <td>NaN</td>\n      <td>NaN</td>\n      <td>NaN</td>\n      <td>NaN</td>\n      <td>NaN</td>\n      <td>NaN</td>\n      <td>NaN</td>\n      <td>NaN</td>\n      <td>...</td>\n      <td>NaN</td>\n      <td>NaN</td>\n      <td>NaN</td>\n      <td>NaN</td>\n      <td>NaN</td>\n      <td>NaN</td>\n      <td>NaN</td>\n      <td>NaN</td>\n      <td>NaN</td>\n      <td>NaN</td>\n    </tr>\n    <tr>\n      <th>TANTALIO</th>\n      <td>NaN</td>\n      <td>NaN</td>\n      <td>NaN</td>\n      <td>NaN</td>\n      <td>NaN</td>\n      <td>NaN</td>\n      <td>NaN</td>\n      <td>NaN</td>\n      <td>NaN</td>\n      <td>NaN</td>\n      <td>...</td>\n      <td>NaN</td>\n      <td>NaN</td>\n      <td>NaN</td>\n      <td>NaN</td>\n      <td>NaN</td>\n      <td>NaN</td>\n      <td>NaN</td>\n      <td>NaN</td>\n      <td>NaN</td>\n      <td>NaN</td>\n    </tr>\n    <tr>\n      <th>GRAFITO</th>\n      <td>NaN</td>\n      <td>NaN</td>\n      <td>NaN</td>\n      <td>NaN</td>\n      <td>NaN</td>\n      <td>NaN</td>\n      <td>NaN</td>\n      <td>NaN</td>\n      <td>NaN</td>\n      <td>NaN</td>\n      <td>...</td>\n      <td>NaN</td>\n      <td>NaN</td>\n      <td>NaN</td>\n      <td>NaN</td>\n      <td>NaN</td>\n      <td>NaN</td>\n      <td>NaN</td>\n      <td>NaN</td>\n      <td>NaN</td>\n      <td>NaN</td>\n    </tr>\n  </tbody>\n</table>\n<p>70 rows × 70 columns</p>\n</div>"
          },
          "metadata": {},
          "execution_count": 13
        }
      ]
    },
    {
      "cell_type": "code",
      "metadata": {
        "colab": {
          "base_uri": "https://localhost:8080/",
          "height": 978
        },
        "id": "DglLBnshCBlp",
        "outputId": "19e90b66-209f-40dc-f20b-387c4c20aedb"
      },
      "source": [
        "plt.figure(figsize=(20,10))\r\n",
        "corr = corr_mat['IRCA'][1:]\r\n",
        "corr.plot.bar()"
      ],
      "execution_count": null,
      "outputs": [
        {
          "output_type": "execute_result",
          "data": {
            "text/plain": [
              "<matplotlib.axes._subplots.AxesSubplot at 0x7fa0f8ebba58>"
            ]
          },
          "metadata": {
            "tags": []
          },
          "execution_count": 46
        },
        {
          "output_type": "display_data",
          "data": {
            "image/png": "[encoded data removed]",
            "text/plain": [
              "<Figure size 1440x720 with 1 Axes>"
            ]
          },
          "metadata": {
            "tags": [],
            "needs_background": "light"
          }
        }
      ]
    },
    {
      "cell_type": "code",
      "metadata": {
        "id": "zLyGY69zGBl0"
      },
      "source": [
        "corr2 = corr_mat['IRCA'][1:].reset_index()\r\n",
        "corr3 = corr2[corr2['IRCA'] > 0]['Recurso']"
      ],
      "execution_count": 14,
      "outputs": []
    },
    {
      "cell_type": "code",
      "metadata": {
        "id": "_NPItliHGlnQ"
      },
      "source": [
        "new_df6 = new_df5[new_df5['Recurso'].isin(corr3)]"
      ],
      "execution_count": 15,
      "outputs": []
    },
    {
      "cell_type": "code",
      "metadata": {
        "colab": {
          "base_uri": "https://localhost:8080/"
        },
        "id": "dOl34RDlHE1A",
        "outputId": "d605558a-9def-40aa-c144-c5233ff5892c"
      },
      "source": [
        "model1 = 'IRCA ~ (Cantidad) + (Recurso)'\r\n",
        "lm1   = sm.ols(formula = model1, data = new_df5).fit()\r\n",
        "print(lm1.summary())"
      ],
      "execution_count": 16,
      "outputs": [
        {
          "output_type": "stream",
          "name": "stdout",
          "text": [
            "                            OLS Regression Results                            \n==============================================================================\nDep. Variable:                   IRCA   R-squared:                       0.576\nModel:                            OLS   Adj. R-squared:                  0.492\nMethod:                 Least Squares   F-statistic:                     6.843\nDate:                Sat, 19 Dec 2020   Prob (F-statistic):           9.99e-35\nTime:                        18:21:00   Log-Likelihood:                -1454.4\nNo. Observations:                 417   AIC:                             3049.\nDf Residuals:                     347   BIC:                             3331.\nDf Model:                          69                                         \nCovariance Type:            nonrobust                                         \n==============================================================================================================================================\n                                                                                 coef    std err          t      P>|t|      [0.025      0.975]\n----------------------------------------------------------------------------------------------------------------------------------------------\nIntercept                                                                     16.1670      3.068      5.270      0.000      10.133      22.201\nRecurso[T.ARCILLAS BENTONITICA]                                               -2.3768      4.339     -0.548      0.584     -10.910       6.157\nRecurso[T.ARCILLAS CAOLINITICA]                                               -1.0520      4.339     -0.242      0.809      -9.586       7.482\nRecurso[T.ARCILLAS CERAMICAS]                                                 -0.7510      4.339     -0.173      0.863      -9.285       7.783\nRecurso[T.ARCILLAS FERRUGINOSAS]                                               7.2807      4.339      1.678      0.094      -1.253      15.814\nRecurso[T.ARCILLAS MISCELANEAS]                                               -0.7122      4.339     -0.164      0.870      -9.246       7.821\nRecurso[T.ARCILLAS REFRACTARIAS]                                              -6.4539      5.875     -1.099      0.273     -18.008       5.101\nRecurso[T.ARENA DE CANTERA]                                                    0.6806      4.947      0.138      0.891      -9.049      10.410\nRecurso[T.ARENA DE RIO]                                                        6.2843      4.947      1.270      0.205      -3.446      16.014\nRecurso[T.ARENAS]                                                              3.5163      4.339      0.810      0.418      -5.017      12.050\nRecurso[T.ARENAS NEGRAS]                                                      32.3299      5.314      6.084      0.000      21.878      42.781\nRecurso[T.ARENAS SILICEAS]                                                    -0.2430      4.339     -0.056      0.955      -8.777       8.291\nRecurso[T.ASBESTO]                                                           -14.1703      9.204     -1.540      0.125     -32.273       3.932\nRecurso[T.ASFALTITA]                                                          17.9170      4.339      4.130      0.000       9.383      26.451\nRecurso[T.AZUFRE]                                                             21.9798      5.875      3.741      0.000      10.425      33.534\nRecurso[T.BARITA]                                                            -12.4788      4.339     -2.876      0.004     -21.012      -3.945\nRecurso[T.BASALTO]                                                            -6.4727      4.339     -1.492      0.137     -15.006       2.061\nRecurso[T.BAUXITA]                                                            -7.9758      4.491     -1.776      0.077     -16.809       0.857\nRecurso[T.CALIZAS]                                                             4.5445      4.339      1.047      0.296      -3.990      13.079\nRecurso[T.CARBON]                                                              3.3454      4.344      0.770      0.442      -5.198      11.889\nRecurso[T.CARBONATO DE CALCIO]                                                -6.8521      6.860     -0.999      0.319     -20.345       6.641\nRecurso[T.COBRE]                                                              -9.6288      4.686     -2.055      0.041     -18.846      -0.411\nRecurso[T.CROMO - CROMITA]                                                    -4.7712      4.686     -1.018      0.309     -13.989       4.446\nRecurso[T.CUARZO]                                                              8.9309      5.875      1.520      0.129      -2.624      20.485\nRecurso[T.DIABASA]                                                            -1.3353      4.339     -0.308      0.758      -9.869       7.199\nRecurso[T.DOLOMITA]                                                            0.0832      4.339      0.019      0.985      -8.450       8.617\nRecurso[T.ESMERALDAS]                                                          4.0844      4.339      0.941      0.347      -4.449      12.618\nRecurso[T.ESMERALDAS EN BRUTO]                                                 6.8247      4.340      1.572      0.117      -1.712      15.362\nRecurso[T.ESMERALDAS ENGASTADA]                                                1.7412      4.339      0.401      0.688      -6.792      10.275\nRecurso[T.ESMERALDAS SEMIPRECIOSA]                                            -4.7551      4.704     -1.011      0.313     -14.007       4.497\nRecurso[T.ESMERALDAS TALLADAS]                                                -1.3843      4.339     -0.319      0.750      -9.919       7.150\nRecurso[T.ESTANO]                                                             -7.0938      5.314     -1.335      0.183     -17.545       3.358\nRecurso[T.FELDESPATOS]                                                        11.6112      4.339      2.676      0.008       3.078      20.145\nRecurso[T.FLUORITA]                                                           -2.0820      4.686     -0.444      0.657     -11.299       7.135\nRecurso[T.GRAFITO]                                                           -13.3371      9.204     -1.449      0.148     -31.440       4.765\nRecurso[T.GRANITO (BLOQUE MAYOR O IGUAL A 1 M3)]                              -0.4271      9.204     -0.046      0.963     -18.530      17.675\nRecurso[T.GRAVA DE CANTERA]                                                    0.0865      4.947      0.017      0.986      -9.643       9.816\nRecurso[T.GRAVAS]                                                              5.6896      4.339      1.311      0.191      -2.844      14.223\nRecurso[T.GRAVAS DE RIO]                                                       7.7035      4.947      1.557      0.120      -2.026      17.433\nRecurso[T.GRAVAs DE RIO]                                                       2.3575      5.875      0.401      0.688      -9.197      13.912\nRecurso[T.HIERRO]                                                              6.1245      4.339      1.412      0.159      -2.409      14.658\nRecurso[T.MANGANESO]                                                          24.3783      5.314      4.588      0.000      13.927      34.830\nRecurso[T.MARMOL]                                                             11.9320      4.947      2.412      0.016       2.202      21.662\nRecurso[T.MARMOL (BLOQUE MAYOR O IGUAL A 1 M3)]                               -2.2845      4.339     -0.527      0.599     -10.818       6.249\nRecurso[T.MARMOL (BLOQUE MENOR A 1 M3)]                                        2.0273      4.339      0.467      0.641      -6.506      10.561\nRecurso[T.MARMOL EN RAJÓN (RETAL DE MÁRMOL)]                                  11.9145      5.875      2.028      0.043       0.360      23.469\nRecurso[T.MINERAL DE MAGNESIO (MAGNESITA)]                                   -15.3570      6.860     -2.239      0.026     -28.850      -1.864\nRecurso[T.NIOBIO]                                                             17.2841      5.875      2.942      0.003       5.730      28.839\nRecurso[T.NIQUEL]                                                            -32.0552     12.613     -2.541      0.011     -56.863      -7.248\nRecurso[T.ORO]                                                                 8.6382      4.340      1.990      0.047       0.103      17.174\nRecurso[T.PIEDRA ARENISCA-PIEDRA BOGOTANA]                                   -14.0684      4.947     -2.844      0.005     -23.798      -4.339\nRecurso[T.PLATA]                                                               7.7634      4.339      1.789      0.074      -0.771      16.297\nRecurso[T.PLATINO]                                                            13.5338      4.339      3.119      0.002       5.000      22.067\nRecurso[T.PUZOLANAS]                                                         -10.0289      4.339     -2.311      0.021     -18.563      -1.495\nRecurso[T.RECEBO]                                                              4.5270      4.339      1.043      0.298      -4.007      13.061\nRecurso[T.ROCA CORALINA (BLOQUE MAYOR O IGUAL A 1 M3)]                        -6.3373      4.491     -1.411      0.159     -15.170       2.496\nRecurso[T.ROCA CORALINA (BLOQUE MENOR A 1 M3)]                                -4.8923      4.686     -1.044      0.297     -14.110       4.325\nRecurso[T.ROCA FOSFORICA]                                                     13.6661      4.339      3.150      0.002       5.133      22.200\nRecurso[T.SAL]                                                                 6.8392      4.339      1.576      0.116      -1.695      15.373\nRecurso[T.SERPENTINA (BLOQUE MAYOR O IGUAL A 1 M3)]                           13.4327      6.860      1.958      0.051      -0.060      26.925\nRecurso[T.SERPENTINA (BLOQUE MENOR A 1 M3)]                                   36.5160      4.947      7.382      0.000      26.786      46.246\nRecurso[T.SERPENTINA (SILICATO DE MAGNESIO)]                                   5.2277      5.314      0.984      0.326      -5.224      15.679\nRecurso[T.SERPENTINA EN RAJON]                                                 3.2757      4.947      0.662      0.508      -6.454      13.006\nRecurso[T.TALCO]                                                              -9.4456      4.339     -2.177      0.030     -17.979      -0.912\nRecurso[T.TANTALIO]                                                           -6.1072      9.204     -0.664      0.507     -24.210      11.995\nRecurso[T.TRAVERTINO Y CALIZAS CRISTALINAS EN BLOQUE MAYOR O IGUAL A 1 M3]    -6.5162      4.339     -1.502      0.134     -15.050       2.017\nRecurso[T.TRAVERTINO Y CALIZAS CRISTALINAS EN BLOQUE MENOR A 1 M3]            -8.9992      4.686     -1.920      0.056     -18.217       0.218\nRecurso[T.VOLFRAMIO]                                                          15.4766      6.860      2.256      0.025       1.984      28.969\nRecurso[T.YESO]                                                                6.1413      4.339      1.415      0.158      -2.392      14.675\nCantidad                                                                    9.255e-07   2.73e-07      3.391      0.001    3.89e-07    1.46e-06\n==============================================================================\nOmnibus:                       95.859   Durbin-Watson:                   1.828\nProb(Omnibus):                  0.000   Jarque-Bera (JB):              631.441\nSkew:                           0.792   Prob(JB):                    7.66e-138\nKurtosis:                       8.817   Cond. No.                     3.59e+08\n==============================================================================\n\nNotes:\n[1] Standard Errors assume that the covariance matrix of the errors is correctly specified.\n[2] The condition number is large, 3.59e+08. This might indicate that there are\nstrong multicollinearity or other numerical problems.\n"
          ]
        }
      ]
    },
    {
      "cell_type": "code",
      "metadata": {
        "id": "_IUirVkqmwBk"
      },
      "source": [
        "data2 = lm1.pvalues[1:len(lm1.pvalues)-1][lm1.pvalues[1:len(lm1.pvalues)-1] < 0.05].keys().tolist()\r\n",
        "data3 = [i.replace('Recurso[T.', '') for i in data2]\r\n",
        "data3 = [i.replace(']', '') for i in data3]\r\n",
        "data3.append('ARCILLA')\r\n",
        "new_df7 = new_df5[new_df5['Recurso'].isin(data3)]"
      ],
      "execution_count": 17,
      "outputs": []
    },
    {
      "cell_type": "code",
      "metadata": {
        "colab": {
          "base_uri": "https://localhost:8080/"
        },
        "id": "qEh3QkNLp9tb",
        "outputId": "8f584e8d-1649-4cd7-ba77-086088e059f1"
      },
      "source": [
        "model2 = 'IRCA ~ Cantidad + C(Recurso)'\r\n",
        "lm2 = sm.ols(formula = model1, data = new_df7).fit()\r\n",
        "print(lm2.summary())"
      ],
      "execution_count": 18,
      "outputs": [
        {
          "output_type": "stream",
          "name": "stdout",
          "text": [
            "                            OLS Regression Results                            \n==============================================================================\nDep. Variable:                   IRCA   R-squared:                       0.788\nModel:                            OLS   Adj. R-squared:                  0.743\nMethod:                 Least Squares   F-statistic:                     17.56\nDate:                Sat, 19 Dec 2020   Prob (F-statistic):           1.29e-24\nTime:                        18:21:08   Log-Likelihood:                -414.65\nNo. Observations:                 121   AIC:                             873.3\nDf Residuals:                      99   BIC:                             934.8\nDf Model:                          21                                         \nCovariance Type:            nonrobust                                         \n================================================================================================================\n                                                   coef    std err          t      P>|t|      [0.025      0.975]\n----------------------------------------------------------------------------------------------------------------\nIntercept                                       16.1645      2.911      5.552      0.000      10.388      21.941\nRecurso[T.ARENAS NEGRAS]                        32.3236      5.042      6.410      0.000      22.318      42.329\nRecurso[T.ASFALTITA]                            17.9182      4.117      4.352      0.000       9.749      26.087\nRecurso[T.AZUFRE]                               21.9741      5.575      3.942      0.000      10.913      33.035\nRecurso[T.BARITA]                              -12.4764      4.117     -3.030      0.003     -20.646      -4.307\nRecurso[T.COBRE]                                -9.6263      4.447     -2.165      0.033     -18.450      -0.803\nRecurso[T.FELDESPATOS]                          11.6014      4.117      2.818      0.006       3.432      19.771\nRecurso[T.MANGANESO]                            24.3808      5.042      4.835      0.000      14.376      34.386\nRecurso[T.MARMOL]                               11.9341      4.694      2.542      0.013       2.620      21.248\nRecurso[T.MARMOL EN RAJÓN (RETAL DE MÁRMOL)]    11.9166      5.575      2.138      0.035       0.856      22.978\nRecurso[T.MINERAL DE MAGNESIO (MAGNESITA)]     -15.3545      6.510     -2.359      0.020     -28.271      -2.438\nRecurso[T.NIOBIO]                               17.2861      5.575      3.101      0.003       6.225      28.347\nRecurso[T.NIQUEL]                              -43.0684     14.467     -2.977      0.004     -71.774     -14.362\nRecurso[T.ORO]                                   8.5501      4.119      2.076      0.040       0.378      16.722\nRecurso[T.PIEDRA ARENISCA-PIEDRA BOGOTANA]     -14.0674      4.694     -2.997      0.003     -23.382      -4.753\nRecurso[T.PLATINO]                              13.5339      4.117      3.287      0.001       5.365      21.703\nRecurso[T.PUZOLANAS]                           -10.0567      4.117     -2.443      0.016     -18.226      -1.887\nRecurso[T.ROCA FOSFORICA]                       13.6620      4.117      3.318      0.001       5.493      21.831\nRecurso[T.SERPENTINA (BLOQUE MENOR A 1 M3)]     36.5183      4.694      7.779      0.000      27.204      45.833\nRecurso[T.TALCO]                                -9.4434      4.117     -2.294      0.024     -17.613      -1.274\nRecurso[T.VOLFRAMIO]                            15.4788      6.510      2.378      0.019       2.562      28.395\nCantidad                                      1.181e-06    3.2e-07      3.687      0.000    5.45e-07    1.82e-06\n==============================================================================\nOmnibus:                       20.892   Durbin-Watson:                   1.867\nProb(Omnibus):                  0.000   Jarque-Bera (JB):              122.421\nSkew:                          -0.041   Prob(JB):                     2.61e-27\nKurtosis:                       7.927   Cond. No.                     2.19e+08\n==============================================================================\n\nNotes:\n[1] Standard Errors assume that the covariance matrix of the errors is correctly specified.\n[2] The condition number is large, 2.19e+08. This might indicate that there are\nstrong multicollinearity or other numerical problems.\n"
          ]
        }
      ]
    },
    {
      "cell_type": "code",
      "metadata": {
        "colab": {
          "base_uri": "https://localhost:8080/"
        },
        "id": "ebfPOAXU-Uhc",
        "outputId": "d1b134ce-48b9-4ff1-f8f6-2cd21316d62c"
      },
      "source": [
        "new_df5['Cantidad'][new_df5['Recurso'] == 'ASFALTITA']"
      ],
      "execution_count": 19,
      "outputs": [
        {
          "output_type": "execute_result",
          "data": {
            "text/plain": [
              "11     2034.250000\n",
              "62     4492.000000\n",
              "116    7771.000000\n",
              "173    6105.000000\n",
              "231    9129.400000\n",
              "283    3973.200000\n",
              "332    3722.333333\n",
              "377    5792.333333\n",
              "Name: Cantidad, dtype: float64"
            ]
          },
          "metadata": {},
          "execution_count": 19
        }
      ]
    },
    {
      "cell_type": "code",
      "metadata": {
        "id": "2DVp-NCEZOi6"
      },
      "source": [
        "lm2.save(\"model1.pickle\")"
      ],
      "execution_count": 20,
      "outputs": []
    },
    {
      "cell_type": "code",
      "metadata": {
        "colab": {
          "base_uri": "https://localhost:8080/",
          "height": 548
        },
        "id": "JWfpIPmHHJii",
        "outputId": "366f79f4-a388-4f07-c8e9-8ffe906c6284"
      },
      "source": [
        "new_df9 = new_df5.copy()\r\n",
        "new_df9 = new_df9.set_index('IRCA')\r\n",
        "y = pd.get_dummies(new_df9['Recurso'])\r\n",
        "y = y.reset_index()\r\n",
        "y"
      ],
      "execution_count": 22,
      "outputs": [
        {
          "output_type": "execute_result",
          "data": {
            "text/plain": [
              "          IRCA  ARCILLA  ARCILLAS BENTONITICA  ARCILLAS CAOLINITICA  \\\n",
              "0    16.204211        1                     0                     0   \n",
              "1     9.450000        0                     1                     0   \n",
              "2     9.564000        0                     0                     1   \n",
              "3    12.455200        0                     0                     0   \n",
              "4    20.360000        0                     0                     0   \n",
              "..         ...      ...                   ...                   ...   \n",
              "412  37.295000        0                     0                     0   \n",
              "413   1.280000        0                     0                     0   \n",
              "414   5.395000        0                     0                     0   \n",
              "415   4.420000        0                     0                     0   \n",
              "416  19.796000        0                     0                     0   \n",
              "\n",
              "     ARCILLAS CERAMICAS  ARCILLAS FERRUGINOSAS  ARCILLAS MISCELANEAS  \\\n",
              "0                     0                      0                     0   \n",
              "1                     0                      0                     0   \n",
              "2                     0                      0                     0   \n",
              "3                     1                      0                     0   \n",
              "4                     0                      1                     0   \n",
              "..                  ...                    ...                   ...   \n",
              "412                   0                      0                     0   \n",
              "413                   0                      0                     0   \n",
              "414                   0                      0                     0   \n",
              "415                   0                      0                     0   \n",
              "416                   0                      0                     0   \n",
              "\n",
              "     ARCILLAS REFRACTARIAS  ARENA DE CANTERA  ARENA DE RIO  ...  \\\n",
              "0                        0                 0             0  ...   \n",
              "1                        0                 0             0  ...   \n",
              "2                        0                 0             0  ...   \n",
              "3                        0                 0             0  ...   \n",
              "4                        0                 0             0  ...   \n",
              "..                     ...               ...           ...  ...   \n",
              "412                      0                 0             0  ...   \n",
              "413                      0                 0             0  ...   \n",
              "414                      0                 0             0  ...   \n",
              "415                      0                 0             0  ...   \n",
              "416                      0                 0             0  ...   \n",
              "\n",
              "     SERPENTINA (BLOQUE MAYOR O IGUAL A 1 M3)  \\\n",
              "0                                           0   \n",
              "1                                           0   \n",
              "2                                           0   \n",
              "3                                           0   \n",
              "4                                           0   \n",
              "..                                        ...   \n",
              "412                                         0   \n",
              "413                                         0   \n",
              "414                                         0   \n",
              "415                                         0   \n",
              "416                                         0   \n",
              "\n",
              "     SERPENTINA (BLOQUE MENOR A 1 M3)  SERPENTINA (SILICATO DE MAGNESIO)  \\\n",
              "0                                   0                                  0   \n",
              "1                                   0                                  0   \n",
              "2                                   0                                  0   \n",
              "3                                   0                                  0   \n",
              "4                                   0                                  0   \n",
              "..                                ...                                ...   \n",
              "412                                 0                                  0   \n",
              "413                                 0                                  0   \n",
              "414                                 0                                  0   \n",
              "415                                 0                                  0   \n",
              "416                                 0                                  0   \n",
              "\n",
              "     SERPENTINA EN RAJON  TALCO  TANTALIO  \\\n",
              "0                      0      0         0   \n",
              "1                      0      0         0   \n",
              "2                      0      0         0   \n",
              "3                      0      0         0   \n",
              "4                      0      0         0   \n",
              "..                   ...    ...       ...   \n",
              "412                    1      0         0   \n",
              "413                    0      1         0   \n",
              "414                    0      0         0   \n",
              "415                    0      0         0   \n",
              "416                    0      0         0   \n",
              "\n",
              "     TRAVERTINO Y CALIZAS CRISTALINAS EN BLOQUE MAYOR O IGUAL A 1 M3  \\\n",
              "0                                                    0                 \n",
              "1                                                    0                 \n",
              "2                                                    0                 \n",
              "3                                                    0                 \n",
              "4                                                    0                 \n",
              "..                                                 ...                 \n",
              "412                                                  0                 \n",
              "413                                                  0                 \n",
              "414                                                  1                 \n",
              "415                                                  0                 \n",
              "416                                                  0                 \n",
              "\n",
              "     TRAVERTINO Y CALIZAS CRISTALINAS EN BLOQUE MENOR A 1 M3  VOLFRAMIO  YESO  \n",
              "0                                                    0                0     0  \n",
              "1                                                    0                0     0  \n",
              "2                                                    0                0     0  \n",
              "3                                                    0                0     0  \n",
              "4                                                    0                0     0  \n",
              "..                                                 ...              ...   ...  \n",
              "412                                                  0                0     0  \n",
              "413                                                  0                0     0  \n",
              "414                                                  0                0     0  \n",
              "415                                                  1                0     0  \n",
              "416                                                  0                0     1  \n",
              "\n",
              "[417 rows x 70 columns]"
            ],
            "text/html": "<div>\n<style scoped>\n    .dataframe tbody tr th:only-of-type {\n        vertical-align: middle;\n    }\n\n    .dataframe tbody tr th {\n        vertical-align: top;\n    }\n\n    .dataframe thead th {\n        text-align: right;\n    }\n</style>\n<table border=\"1\" class=\"dataframe\">\n  <thead>\n    <tr style=\"text-align: right;\">\n      <th></th>\n      <th>IRCA</th>\n      <th>ARCILLA</th>\n      <th>ARCILLAS BENTONITICA</th>\n      <th>ARCILLAS CAOLINITICA</th>\n      <th>ARCILLAS CERAMICAS</th>\n      <th>ARCILLAS FERRUGINOSAS</th>\n      <th>ARCILLAS MISCELANEAS</th>\n      <th>ARCILLAS REFRACTARIAS</th>\n      <th>ARENA DE CANTERA</th>\n      <th>ARENA DE RIO</th>\n      <th>...</th>\n      <th>SERPENTINA (BLOQUE MAYOR O IGUAL A 1 M3)</th>\n      <th>SERPENTINA (BLOQUE MENOR A 1 M3)</th>\n      <th>SERPENTINA (SILICATO DE MAGNESIO)</th>\n      <th>SERPENTINA EN RAJON</th>\n      <th>TALCO</th>\n      <th>TANTALIO</th>\n      <th>TRAVERTINO Y CALIZAS CRISTALINAS EN BLOQUE MAYOR O IGUAL A 1 M3</th>\n      <th>TRAVERTINO Y CALIZAS CRISTALINAS EN BLOQUE MENOR A 1 M3</th>\n      <th>VOLFRAMIO</th>\n      <th>YESO</th>\n    </tr>\n  </thead>\n  <tbody>\n    <tr>\n      <th>0</th>\n      <td>16.204211</td>\n      <td>1</td>\n      <td>0</td>\n      <td>0</td>\n      <td>0</td>\n      <td>0</td>\n      <td>0</td>\n      <td>0</td>\n      <td>0</td>\n      <td>0</td>\n      <td>...</td>\n      <td>0</td>\n      <td>0</td>\n      <td>0</td>\n      <td>0</td>\n      <td>0</td>\n      <td>0</td>\n      <td>0</td>\n      <td>0</td>\n      <td>0</td>\n      <td>0</td>\n    </tr>\n    <tr>\n      <th>1</th>\n      <td>9.450000</td>\n      <td>0</td>\n      <td>1</td>\n      <td>0</td>\n      <td>0</td>\n      <td>0</td>\n      <td>0</td>\n      <td>0</td>\n      <td>0</td>\n      <td>0</td>\n      <td>...</td>\n      <td>0</td>\n      <td>0</td>\n      <td>0</td>\n      <td>0</td>\n      <td>0</td>\n      <td>0</td>\n      <td>0</td>\n      <td>0</td>\n      <td>0</td>\n      <td>0</td>\n    </tr>\n    <tr>\n      <th>2</th>\n      <td>9.564000</td>\n      <td>0</td>\n      <td>0</td>\n      <td>1</td>\n      <td>0</td>\n      <td>0</td>\n      <td>0</td>\n      <td>0</td>\n      <td>0</td>\n      <td>0</td>\n      <td>...</td>\n      <td>0</td>\n      <td>0</td>\n      <td>0</td>\n      <td>0</td>\n      <td>0</td>\n      <td>0</td>\n      <td>0</td>\n      <td>0</td>\n      <td>0</td>\n      <td>0</td>\n    </tr>\n    <tr>\n      <th>3</th>\n      <td>12.455200</td>\n      <td>0</td>\n      <td>0</td>\n      <td>0</td>\n      <td>1</td>\n      <td>0</td>\n      <td>0</td>\n      <td>0</td>\n      <td>0</td>\n      <td>0</td>\n      <td>...</td>\n      <td>0</td>\n      <td>0</td>\n      <td>0</td>\n      <td>0</td>\n      <td>0</td>\n      <td>0</td>\n      <td>0</td>\n      <td>0</td>\n      <td>0</td>\n      <td>0</td>\n    </tr>\n    <tr>\n      <th>4</th>\n      <td>20.360000</td>\n      <td>0</td>\n      <td>0</td>\n      <td>0</td>\n      <td>0</td>\n      <td>1</td>\n      <td>0</td>\n      <td>0</td>\n      <td>0</td>\n      <td>0</td>\n      <td>...</td>\n      <td>0</td>\n      <td>0</td>\n      <td>0</td>\n      <td>0</td>\n      <td>0</td>\n      <td>0</td>\n      <td>0</td>\n      <td>0</td>\n      <td>0</td>\n      <td>0</td>\n    </tr>\n    <tr>\n      <th>...</th>\n      <td>...</td>\n      <td>...</td>\n      <td>...</td>\n      <td>...</td>\n      <td>...</td>\n      <td>...</td>\n      <td>...</td>\n      <td>...</td>\n      <td>...</td>\n      <td>...</td>\n      <td>...</td>\n      <td>...</td>\n      <td>...</td>\n      <td>...</td>\n      <td>...</td>\n      <td>...</td>\n      <td>...</td>\n      <td>...</td>\n      <td>...</td>\n      <td>...</td>\n      <td>...</td>\n    </tr>\n    <tr>\n      <th>412</th>\n      <td>37.295000</td>\n      <td>0</td>\n      <td>0</td>\n      <td>0</td>\n      <td>0</td>\n      <td>0</td>\n      <td>0</td>\n      <td>0</td>\n      <td>0</td>\n      <td>0</td>\n      <td>...</td>\n      <td>0</td>\n      <td>0</td>\n      <td>0</td>\n      <td>1</td>\n      <td>0</td>\n      <td>0</td>\n      <td>0</td>\n      <td>0</td>\n      <td>0</td>\n      <td>0</td>\n    </tr>\n    <tr>\n      <th>413</th>\n      <td>1.280000</td>\n      <td>0</td>\n      <td>0</td>\n      <td>0</td>\n      <td>0</td>\n      <td>0</td>\n      <td>0</td>\n      <td>0</td>\n      <td>0</td>\n      <td>0</td>\n      <td>...</td>\n      <td>0</td>\n      <td>0</td>\n      <td>0</td>\n      <td>0</td>\n      <td>1</td>\n      <td>0</td>\n      <td>0</td>\n      <td>0</td>\n      <td>0</td>\n      <td>0</td>\n    </tr>\n    <tr>\n      <th>414</th>\n      <td>5.395000</td>\n      <td>0</td>\n      <td>0</td>\n      <td>0</td>\n      <td>0</td>\n      <td>0</td>\n      <td>0</td>\n      <td>0</td>\n      <td>0</td>\n      <td>0</td>\n      <td>...</td>\n      <td>0</td>\n      <td>0</td>\n      <td>0</td>\n      <td>0</td>\n      <td>0</td>\n      <td>0</td>\n      <td>1</td>\n      <td>0</td>\n      <td>0</td>\n      <td>0</td>\n    </tr>\n    <tr>\n      <th>415</th>\n      <td>4.420000</td>\n      <td>0</td>\n      <td>0</td>\n      <td>0</td>\n      <td>0</td>\n      <td>0</td>\n      <td>0</td>\n      <td>0</td>\n      <td>0</td>\n      <td>0</td>\n      <td>...</td>\n      <td>0</td>\n      <td>0</td>\n      <td>0</td>\n      <td>0</td>\n      <td>0</td>\n      <td>0</td>\n      <td>0</td>\n      <td>1</td>\n      <td>0</td>\n      <td>0</td>\n    </tr>\n    <tr>\n      <th>416</th>\n      <td>19.796000</td>\n      <td>0</td>\n      <td>0</td>\n      <td>0</td>\n      <td>0</td>\n      <td>0</td>\n      <td>0</td>\n      <td>0</td>\n      <td>0</td>\n      <td>0</td>\n      <td>...</td>\n      <td>0</td>\n      <td>0</td>\n      <td>0</td>\n      <td>0</td>\n      <td>0</td>\n      <td>0</td>\n      <td>0</td>\n      <td>0</td>\n      <td>0</td>\n      <td>1</td>\n    </tr>\n  </tbody>\n</table>\n<p>417 rows × 70 columns</p>\n</div>"
          },
          "metadata": {},
          "execution_count": 22
        }
      ]
    },
    {
      "cell_type": "code",
      "metadata": {
        "colab": {
          "base_uri": "https://localhost:8080/"
        },
        "id": "f08kM6TdI704",
        "outputId": "04ce1f55-4ea8-4a2d-fb91-6bb49c00bd66"
      },
      "source": [
        "y.columns"
      ],
      "execution_count": 23,
      "outputs": [
        {
          "output_type": "execute_result",
          "data": {
            "text/plain": [
              "Index(['IRCA', 'ARCILLA', 'ARCILLAS BENTONITICA', 'ARCILLAS CAOLINITICA',\n",
              "       'ARCILLAS CERAMICAS', 'ARCILLAS FERRUGINOSAS', 'ARCILLAS MISCELANEAS',\n",
              "       'ARCILLAS REFRACTARIAS', 'ARENA DE CANTERA', 'ARENA DE RIO', 'ARENAS',\n",
              "       'ARENAS NEGRAS', 'ARENAS SILICEAS', 'ASBESTO', 'ASFALTITA', 'AZUFRE',\n",
              "       'BARITA', 'BASALTO', 'BAUXITA', 'CALIZAS', 'CARBON',\n",
              "       'CARBONATO DE CALCIO', 'COBRE', 'CROMO - CROMITA', 'CUARZO', 'DIABASA',\n",
              "       'DOLOMITA', 'ESMERALDAS', 'ESMERALDAS EN BRUTO', 'ESMERALDAS ENGASTADA',\n",
              "       'ESMERALDAS SEMIPRECIOSA', 'ESMERALDAS TALLADAS', 'ESTANO',\n",
              "       'FELDESPATOS', 'FLUORITA', 'GRAFITO',\n",
              "       'GRANITO (BLOQUE MAYOR O IGUAL A 1 M3)', 'GRAVA DE CANTERA', 'GRAVAS',\n",
              "       'GRAVAS DE RIO', 'GRAVAs DE RIO', 'HIERRO', 'MANGANESO', 'MARMOL',\n",
              "       'MARMOL (BLOQUE MAYOR O IGUAL A 1 M3)', 'MARMOL (BLOQUE MENOR A 1 M3)',\n",
              "       'MARMOL EN RAJÓN (RETAL DE MÁRMOL)', 'MINERAL DE MAGNESIO (MAGNESITA)',\n",
              "       'NIOBIO', 'NIQUEL', 'ORO', 'PIEDRA ARENISCA-PIEDRA BOGOTANA', 'PLATA',\n",
              "       'PLATINO', 'PUZOLANAS', 'RECEBO',\n",
              "       'ROCA CORALINA (BLOQUE MAYOR O IGUAL A 1 M3)',\n",
              "       'ROCA CORALINA (BLOQUE MENOR A 1 M3)', 'ROCA FOSFORICA', 'SAL',\n",
              "       'SERPENTINA (BLOQUE MAYOR O IGUAL A 1 M3)',\n",
              "       'SERPENTINA (BLOQUE MENOR A 1 M3)', 'SERPENTINA (SILICATO DE MAGNESIO)',\n",
              "       'SERPENTINA EN RAJON', 'TALCO', 'TANTALIO',\n",
              "       'TRAVERTINO Y CALIZAS CRISTALINAS EN BLOQUE MAYOR O IGUAL A 1 M3',\n",
              "       'TRAVERTINO Y CALIZAS CRISTALINAS EN BLOQUE MENOR A 1 M3', 'VOLFRAMIO',\n",
              "       'YESO'],\n",
              "      dtype='object')"
            ]
          },
          "metadata": {},
          "execution_count": 23
        }
      ]
    },
    {
      "cell_type": "code",
      "metadata": {
        "id": "JuWTsWBcJ68U"
      },
      "source": [
        "only_irca= y.iloc[:,0] #Only first colum\r\n",
        "all_but_irca = y.iloc[:, 1:y.shape[1]] #Others"
      ],
      "execution_count": 24,
      "outputs": []
    },
    {
      "cell_type": "code",
      "metadata": {
        "colab": {
          "base_uri": "https://localhost:8080/"
        },
        "id": "5ozcQwm7I4Rf",
        "outputId": "632553ff-6e15-4b41-efc4-bf0de9241497"
      },
      "source": [
        "model4 = 'only_irca ~ all_but_irca'\r\n",
        "lm4   = sm.ols(formula = model4, data = y).fit()\r\n",
        "print(lm4.summary())"
      ],
      "execution_count": 25,
      "outputs": [
        {
          "output_type": "stream",
          "name": "stdout",
          "text": [
            "                            OLS Regression Results                            \n==============================================================================\nDep. Variable:              only_irca   R-squared:                       0.562\nModel:                            OLS   Adj. R-squared:                  0.477\nMethod:                 Least Squares   F-statistic:                     6.576\nDate:                Sat, 19 Dec 2020   Prob (F-statistic):           4.89e-33\nTime:                        18:21:32   Log-Likelihood:                -1461.2\nNo. Observations:                 417   AIC:                             3060.\nDf Residuals:                     348   BIC:                             3339.\nDf Model:                          68                                         \nCovariance Type:            nonrobust                                         \n====================================================================================\n                       coef    std err          t      P>|t|      [0.025      0.975]\n------------------------------------------------------------------------------------\nIntercept           18.5741      0.507     36.636      0.000      17.577      19.571\nall_but_irca[0]     -2.3978      3.111     -0.771      0.441      -8.516       3.720\nall_but_irca[1]     -4.7563      3.111     -1.529      0.127     -10.874       1.362\nall_but_irca[2]     -3.4548      3.111     -1.111      0.268      -9.573       2.663\nall_but_irca[3]     -3.1143      3.111     -1.001      0.317      -9.232       3.004\nall_but_irca[4]      4.8924      3.111      1.573      0.117      -1.226      11.011\nall_but_irca[5]     -3.0853      3.111     -0.992      0.322      -9.203       3.033\nall_but_irca[6]     -8.8608      5.037     -1.759      0.079     -18.768       1.047\nall_but_irca[7]     -1.7080      3.915     -0.436      0.663      -9.408       5.992\nall_but_irca[8]      3.8978      3.915      0.996      0.320      -3.802      11.598\nall_but_irca[9]      1.1278      3.111      0.363      0.717      -4.990       7.246\nall_but_irca[10]    29.9551      4.370      6.855      0.000      21.360      38.550\nall_but_irca[11]    -2.6339      3.111     -0.847      0.398      -8.752       3.484\nall_but_irca[12]   -16.5741      8.696     -1.906      0.057     -33.677       0.528\nall_but_irca[13]    15.5149      3.111      4.988      0.000       9.397      21.633\nall_but_irca[14]    19.6026      5.037      3.891      0.000       9.695      29.510\nall_but_irca[15]   -14.8854      3.111     -4.785      0.000     -21.003      -8.767\nall_but_irca[16]    -8.8642      3.111     -2.850      0.005     -14.982      -2.746\nall_but_irca[17]   -10.3798      3.320     -3.126      0.002     -16.910      -3.850\nall_but_irca[18]     2.4015      3.111      0.772      0.441      -3.717       8.520\nall_but_irca[19]     1.6569      3.111      0.533      0.595      -4.461       7.775\nall_but_irca[20]    -9.2591      6.159     -1.503      0.134     -21.373       2.855\nall_but_irca[21]   -12.0354      3.580     -3.362      0.001     -19.076      -4.994\nall_but_irca[22]    -7.1783      3.580     -2.005      0.046     -14.219      -0.137\nall_but_irca[23]     6.5242      5.037      1.295      0.196      -3.383      16.432\nall_but_irca[24]    -3.5933      3.111     -1.155      0.249      -9.711       2.525\nall_but_irca[25]    -2.3060      3.111     -0.741      0.459      -8.424       3.812\nall_but_irca[26]     1.6774      3.111      0.539      0.590      -4.441       7.795\nall_but_irca[27]     4.8372      3.111      1.555      0.121      -1.281      10.955\nall_but_irca[28]    -0.6339      3.111     -0.204      0.839      -6.752       5.484\nall_but_irca[29]    -0.9905      3.111     -0.318      0.750      -7.109       5.128\nall_but_irca[30]    -3.5987      3.111     -1.157      0.248      -9.717       2.519\nall_but_irca[31]    -9.4941      4.370     -2.173      0.030     -18.089      -0.899\nall_but_irca[32]     9.2487      3.111      2.973      0.003       3.131      15.367\nall_but_irca[33]    -4.4891      3.580     -1.254      0.211     -11.530       2.552\nall_but_irca[34]   -15.7441      8.696     -1.811      0.071     -32.847       1.358\nall_but_irca[35]    -2.8341      8.696     -0.326      0.745     -19.937      14.268\nall_but_irca[36]    -2.2878      3.915     -0.584      0.559      -9.988       5.412\nall_but_irca[37]     3.3148      3.111      1.066      0.287      -2.803       9.433\nall_but_irca[38]     5.3325      3.915      1.362      0.174      -2.368      13.033\nall_but_irca[39]    -0.0364      5.037     -0.007      0.994      -9.944       9.871\nall_but_irca[40]     3.8583      3.111      1.240      0.216      -2.260       9.976\nall_but_irca[41]    21.9713      4.370      5.028      0.000      13.377      30.566\nall_but_irca[42]     9.5264      3.915      2.433      0.015       1.826      17.227\nall_but_irca[43]    -4.6912      3.111     -1.508      0.132     -10.809       1.427\nall_but_irca[44]    -0.3796      3.111     -0.122      0.903      -6.498       5.738\nall_but_irca[45]     9.5090      5.037      1.888      0.060      -0.399      19.417\nall_but_irca[46]   -17.7641      6.159     -2.884      0.004     -29.878      -5.650\nall_but_irca[47]    14.8792      5.037      2.954      0.003       4.972      24.787\nall_but_irca[48]     5.5140      3.320      1.661      0.098      -1.016      12.044\nall_but_irca[49]     6.5602      3.111      2.109      0.036       0.442      12.678\nall_but_irca[50]   -16.4701      3.915     -4.207      0.000     -24.170      -8.770\nall_but_irca[51]     5.5011      3.111      1.768      0.078      -0.617      11.619\nall_but_irca[52]    11.1356      3.111      3.580      0.000       5.017      17.254\nall_but_irca[53]   -12.3258      3.111     -3.962      0.000     -18.444      -6.208\nall_but_irca[54]     2.1651      3.111      0.696      0.487      -3.953       8.283\nall_but_irca[55]    -8.7441      3.320     -2.634      0.009     -15.274      -2.214\nall_but_irca[56]    -7.2991      3.580     -2.039      0.042     -14.340      -0.258\nall_but_irca[57]    11.2833      3.111      3.627      0.000       5.165      17.401\nall_but_irca[58]     4.5568      3.111      1.465      0.144      -1.561      10.675\nall_but_irca[59]    11.0259      6.159      1.790      0.074      -1.088      23.140\nall_but_irca[60]    34.1099      3.915      8.712      0.000      26.410      41.810\nall_but_irca[61]     2.8271      4.370      0.647      0.518      -5.768      11.422\nall_but_irca[62]     0.8689      3.915      0.222      0.824      -6.831       8.569\nall_but_irca[63]   -11.8516      3.111     -3.810      0.000     -17.970      -5.733\nall_but_irca[64]    -8.5141      8.696     -0.979      0.328     -25.617       8.588\nall_but_irca[65]    -8.9231      3.111     -2.869      0.004     -15.041      -2.805\nall_but_irca[66]   -11.4058      3.580     -3.186      0.002     -18.447      -4.365\nall_but_irca[67]    13.0709      6.159      2.122      0.035       0.957      25.185\nall_but_irca[68]     3.7914      3.111      1.219      0.224      -2.327       9.910\n==============================================================================\nOmnibus:                       94.008   Durbin-Watson:                   1.863\nProb(Omnibus):                  0.000   Jarque-Bera (JB):              565.692\nSkew:                           0.802   Prob(JB):                    1.45e-123\nKurtosis:                       8.476   Cond. No.                     5.81e+15\n==============================================================================\n\nNotes:\n[1] Standard Errors assume that the covariance matrix of the errors is correctly specified.\n[2] The smallest eigenvalue is 1.26e-29. This might indicate that there are\nstrong multicollinearity problems or that the design matrix is singular.\n"
          ]
        }
      ]
    },
    {
      "cell_type": "code",
      "metadata": {
        "colab": {
          "base_uri": "https://localhost:8080/"
        },
        "id": "mD3v2Rxfbpr3",
        "outputId": "43701ea4-cbec-46bc-93e7-c1f430a18776"
      },
      "source": [
        "x = [0,0,0,0,0,0,0,0,0,0,0,0,0,0,0,0,0,0,0,0,25000000]\r\n",
        "x[11] = 1\r\n",
        "x"
      ],
      "execution_count": 26,
      "outputs": [
        {
          "output_type": "execute_result",
          "data": {
            "text/plain": [
              "[0, 0, 0, 0, 0, 0, 0, 0, 0, 0, 0, 1, 0, 0, 0, 0, 0, 0, 0, 0, 25000000]"
            ]
          },
          "metadata": {},
          "execution_count": 26
        }
      ]
    },
    {
      "cell_type": "code",
      "metadata": {
        "colab": {
          "base_uri": "https://localhost:8080/"
        },
        "id": "9gXsqwAfdmLD",
        "outputId": "d3419af8-3bb1-437f-a51f-765bfeb84448"
      },
      "source": [
        "lm2.params"
      ],
      "execution_count": 27,
      "outputs": [
        {
          "output_type": "execute_result",
          "data": {
            "text/plain": [
              "Intercept                                       16.164464\n",
              "Recurso[T.ARENAS NEGRAS]                        32.323581\n",
              "Recurso[T.ASFALTITA]                            17.918188\n",
              "Recurso[T.AZUFRE]                               21.974073\n",
              "Recurso[T.BARITA]                              -12.476360\n",
              "Recurso[T.COBRE]                                -9.626341\n",
              "Recurso[T.FELDESPATOS]                          11.601437\n",
              "Recurso[T.MANGANESO]                            24.380843\n",
              "Recurso[T.MARMOL]                               11.934127\n",
              "Recurso[T.MARMOL EN RAJÓN (RETAL DE MÁRMOL)]    11.916617\n",
              "Recurso[T.MINERAL DE MAGNESIO (MAGNESITA)]     -15.354469\n",
              "Recurso[T.NIOBIO]                               17.286092\n",
              "Recurso[T.NIQUEL]                              -43.068419\n",
              "Recurso[T.ORO]                                   8.550081\n",
              "Recurso[T.PIEDRA ARENISCA-PIEDRA BOGOTANA]     -14.067372\n",
              "Recurso[T.PLATINO]                              13.533855\n",
              "Recurso[T.PUZOLANAS]                           -10.056675\n",
              "Recurso[T.ROCA FOSFORICA]                       13.661979\n",
              "Recurso[T.SERPENTINA (BLOQUE MENOR A 1 M3)]     36.518303\n",
              "Recurso[T.TALCO]                                -9.443406\n",
              "Recurso[T.VOLFRAMIO]                            15.478801\n",
              "Cantidad                                         0.000001\n",
              "dtype: float64"
            ]
          },
          "metadata": {},
          "execution_count": 27
        }
      ]
    },
    {
      "cell_type": "code",
      "metadata": {
        "colab": {
          "base_uri": "https://localhost:8080/"
        },
        "id": "DzEbgfnee1yW",
        "outputId": "a844bb21-a202-4e1c-d67b-539a75d07143"
      },
      "source": [
        "lm2.predict(pd.DataFrame({'Cantidad': 4500000, 'Recurso': 'VOLFRAMIO'}, index=[0]))"
      ],
      "execution_count": 28,
      "outputs": [
        {
          "output_type": "execute_result",
          "data": {
            "text/plain": [
              "0    36.955661\n",
              "dtype: float64"
            ]
          },
          "metadata": {},
          "execution_count": 28
        }
      ]
    },
    {
      "cell_type": "code",
      "metadata": {
        "colab": {
          "base_uri": "https://localhost:8080/",
          "height": 162
        },
        "id": "WYkc-WUG7tRm",
        "outputId": "a3d9917d-cefb-4e53-cbd6-56e6b2cb13b9"
      },
      "source": [
        "lm2.predict(pd.DataFrame({'Cantidad': 4500000, 'Recurso': 'VOLFRAMIO'}, index=[0]))"
      ],
      "execution_count": 29,
      "outputs": [
        {
          "output_type": "execute_result",
          "data": {
            "text/plain": [
              "0    36.955661\n",
              "dtype: float64"
            ]
          },
          "metadata": {},
          "execution_count": 29
        }
      ]
    },
    {
      "cell_type": "code",
      "execution_count": null,
      "metadata": {},
      "outputs": [],
      "source": []
    }
  ]
}